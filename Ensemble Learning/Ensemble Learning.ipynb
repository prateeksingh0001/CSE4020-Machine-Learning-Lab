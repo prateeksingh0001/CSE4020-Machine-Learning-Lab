{
 "cells": [
  {
   "cell_type": "markdown",
   "metadata": {},
   "source": [
    "# Lab 9\n",
    "# Ensemble Learning\n",
    "## Submitted to: Prof. Sweetlin Hemlatha\n",
    "## Submitted by: Prateek Singh (15BCE1091)"
   ]
  },
  {
   "cell_type": "code",
   "execution_count": 15,
   "metadata": {},
   "outputs": [],
   "source": [
    "import numpy as np\n",
    "import pandas as pd\n",
    "import seaborn as sn\n",
    "\n",
    "from sklearn.model_selection import train_test_split\n",
    "from sklearn.linear_model import LogisticRegression\n",
    "from sklearn.preprocessing import StandardScaler\n",
    "from sklearn.tree import DecisionTreeClassifier\n",
    "from sklearn.ensemble import RandomForestClassifier, GradientBoostingClassifier\n",
    "from sklearn.metrics import fbeta_score, accuracy_score\n",
    "from sklearn.metrics import precision_recall_fscore_support, confusion_matrix\n",
    "\n",
    "import matplotlib.pyplot as plt\n",
    "from matplotlib.colors import ListedColormap\n",
    "\n",
    "%matplotlib inline"
   ]
  },
  {
   "cell_type": "code",
   "execution_count": 7,
   "metadata": {},
   "outputs": [
    {
     "data": {
      "text/html": [
       "<div>\n",
       "<style scoped>\n",
       "    .dataframe tbody tr th:only-of-type {\n",
       "        vertical-align: middle;\n",
       "    }\n",
       "\n",
       "    .dataframe tbody tr th {\n",
       "        vertical-align: top;\n",
       "    }\n",
       "\n",
       "    .dataframe thead th {\n",
       "        text-align: right;\n",
       "    }\n",
       "</style>\n",
       "<table border=\"1\" class=\"dataframe\">\n",
       "  <thead>\n",
       "    <tr style=\"text-align: right;\">\n",
       "      <th></th>\n",
       "      <th>fixed acidity</th>\n",
       "      <th>volatile acidity</th>\n",
       "      <th>citric acid</th>\n",
       "      <th>residual sugar</th>\n",
       "      <th>chlorides</th>\n",
       "      <th>free sulfur dioxide</th>\n",
       "      <th>total sulfur dioxide</th>\n",
       "      <th>density</th>\n",
       "      <th>pH</th>\n",
       "      <th>sulphates</th>\n",
       "      <th>alcohol</th>\n",
       "      <th>quality</th>\n",
       "      <th>quality_category</th>\n",
       "    </tr>\n",
       "  </thead>\n",
       "  <tbody>\n",
       "    <tr>\n",
       "      <th>0</th>\n",
       "      <td>7.0</td>\n",
       "      <td>0.27</td>\n",
       "      <td>0.36</td>\n",
       "      <td>20.7</td>\n",
       "      <td>0.045</td>\n",
       "      <td>45.0</td>\n",
       "      <td>170.0</td>\n",
       "      <td>1.0010</td>\n",
       "      <td>3.00</td>\n",
       "      <td>0.45</td>\n",
       "      <td>8.8</td>\n",
       "      <td>6</td>\n",
       "      <td>1</td>\n",
       "    </tr>\n",
       "    <tr>\n",
       "      <th>1</th>\n",
       "      <td>6.3</td>\n",
       "      <td>0.30</td>\n",
       "      <td>0.34</td>\n",
       "      <td>1.6</td>\n",
       "      <td>0.049</td>\n",
       "      <td>14.0</td>\n",
       "      <td>132.0</td>\n",
       "      <td>0.9940</td>\n",
       "      <td>3.30</td>\n",
       "      <td>0.49</td>\n",
       "      <td>9.5</td>\n",
       "      <td>6</td>\n",
       "      <td>1</td>\n",
       "    </tr>\n",
       "    <tr>\n",
       "      <th>2</th>\n",
       "      <td>8.1</td>\n",
       "      <td>0.28</td>\n",
       "      <td>0.40</td>\n",
       "      <td>6.9</td>\n",
       "      <td>0.050</td>\n",
       "      <td>30.0</td>\n",
       "      <td>97.0</td>\n",
       "      <td>0.9951</td>\n",
       "      <td>3.26</td>\n",
       "      <td>0.44</td>\n",
       "      <td>10.1</td>\n",
       "      <td>6</td>\n",
       "      <td>1</td>\n",
       "    </tr>\n",
       "    <tr>\n",
       "      <th>3</th>\n",
       "      <td>7.2</td>\n",
       "      <td>0.23</td>\n",
       "      <td>0.32</td>\n",
       "      <td>8.5</td>\n",
       "      <td>0.058</td>\n",
       "      <td>47.0</td>\n",
       "      <td>186.0</td>\n",
       "      <td>0.9956</td>\n",
       "      <td>3.19</td>\n",
       "      <td>0.40</td>\n",
       "      <td>9.9</td>\n",
       "      <td>6</td>\n",
       "      <td>1</td>\n",
       "    </tr>\n",
       "    <tr>\n",
       "      <th>4</th>\n",
       "      <td>7.2</td>\n",
       "      <td>0.23</td>\n",
       "      <td>0.32</td>\n",
       "      <td>8.5</td>\n",
       "      <td>0.058</td>\n",
       "      <td>47.0</td>\n",
       "      <td>186.0</td>\n",
       "      <td>0.9956</td>\n",
       "      <td>3.19</td>\n",
       "      <td>0.40</td>\n",
       "      <td>9.9</td>\n",
       "      <td>6</td>\n",
       "      <td>1</td>\n",
       "    </tr>\n",
       "  </tbody>\n",
       "</table>\n",
       "</div>"
      ],
      "text/plain": [
       "   fixed acidity  volatile acidity  citric acid  residual sugar  chlorides  \\\n",
       "0            7.0              0.27         0.36            20.7      0.045   \n",
       "1            6.3              0.30         0.34             1.6      0.049   \n",
       "2            8.1              0.28         0.40             6.9      0.050   \n",
       "3            7.2              0.23         0.32             8.5      0.058   \n",
       "4            7.2              0.23         0.32             8.5      0.058   \n",
       "\n",
       "   free sulfur dioxide  total sulfur dioxide  density    pH  sulphates  \\\n",
       "0                 45.0                 170.0   1.0010  3.00       0.45   \n",
       "1                 14.0                 132.0   0.9940  3.30       0.49   \n",
       "2                 30.0                  97.0   0.9951  3.26       0.44   \n",
       "3                 47.0                 186.0   0.9956  3.19       0.40   \n",
       "4                 47.0                 186.0   0.9956  3.19       0.40   \n",
       "\n",
       "   alcohol  quality quality_category  \n",
       "0      8.8        6                1  \n",
       "1      9.5        6                1  \n",
       "2     10.1        6                1  \n",
       "3      9.9        6                1  \n",
       "4      9.9        6                1  "
      ]
     },
     "execution_count": 7,
     "metadata": {},
     "output_type": "execute_result"
    }
   ],
   "source": [
    "white_wine_data = pd.read_csv('../Dataset/winequality-white.csv', sep=';')\n",
    "red_wine_data = pd.read_csv('../Dataset/winequality-red.csv', sep=';')\n",
    "\n",
    "wine_data = pd.concat([white_wine_data, red_wine_data])\n",
    "\n",
    "bins = [1, 4, 6, 10]\n",
    "labels = [0, 1, 2]\n",
    "wine_data['quality_category'] = pd.cut(wine_data['quality'],\n",
    "                                  bins=bins,\n",
    "                                  labels=labels,\n",
    "                                  include_lowest=True)\n",
    "\n",
    "wine_data.head()"
   ]
  },
  {
   "cell_type": "code",
   "execution_count": 12,
   "metadata": {},
   "outputs": [],
   "source": [
    "features = wine_data.iloc[:, :11]\n",
    "features.head()\n",
    "\n",
    "labels = wine_data['quality_category']"
   ]
  },
  {
   "cell_type": "code",
   "execution_count": 13,
   "metadata": {
    "scrolled": true
   },
   "outputs": [
    {
     "name": "stdout",
     "output_type": "stream",
     "text": [
      "Training set has 5197 samples\n",
      "Testing set has 1300 samples\n"
     ]
    }
   ],
   "source": [
    "X_train, X_test, Y_train, Y_test = train_test_split(features,\n",
    "                                                    labels,\n",
    "                                                    test_size=0.2,\n",
    "                                                    random_state=0)\n",
    "\n",
    "print(\"Training set has {} samples\".format(X_train.shape[0]))\n",
    "print(\"Testing set has {} samples\".format(X_test.shape[0]))"
   ]
  },
  {
   "cell_type": "code",
   "execution_count": null,
   "metadata": {},
   "outputs": [],
   "source": [
    "def train_predict_evaluate(learner, sample_size, X_train, Y_train, X_test, Y_test):\n",
    "    results = {}\n",
    "    start = time()\n",
    "    learner = learner.fit(X_train, Y_train)\n",
    "    end = time()\n",
    "    \n",
    "    results['train_time'] = end - start\n",
    "    \n",
    "    "
   ]
  },
  {
   "cell_type": "code",
   "execution_count": 19,
   "metadata": {},
   "outputs": [
    {
     "data": {
      "text/plain": [
       "DecisionTreeClassifier(class_weight=None, criterion='gini', max_depth=5,\n",
       "            max_features=None, max_leaf_nodes=None,\n",
       "            min_impurity_decrease=0.0, min_impurity_split=None,\n",
       "            min_samples_leaf=1, min_samples_split=2,\n",
       "            min_weight_fraction_leaf=0.0, presort=False, random_state=None,\n",
       "            splitter='best')"
      ]
     },
     "execution_count": 19,
     "metadata": {},
     "output_type": "execute_result"
    }
   ],
   "source": [
    "simpleTree = DecisionTreeClassifier(max_depth=5)\n",
    "simpleTree.fit(X_train, Y_train)"
   ]
  },
  {
   "cell_type": "code",
   "execution_count": 17,
   "metadata": {},
   "outputs": [
    {
     "data": {
      "text/plain": [
       "GradientBoostingClassifier(criterion='friedman_mse', init=None,\n",
       "              learning_rate=0.1, loss='deviance', max_depth=5,\n",
       "              max_features=None, max_leaf_nodes=None,\n",
       "              min_impurity_decrease=0.0, min_impurity_split=None,\n",
       "              min_samples_leaf=1, min_samples_split=2,\n",
       "              min_weight_fraction_leaf=0.0, n_estimators=100,\n",
       "              presort='auto', random_state=None, subsample=1.0, verbose=0,\n",
       "              warm_start=False)"
      ]
     },
     "execution_count": 17,
     "metadata": {},
     "output_type": "execute_result"
    }
   ],
   "source": [
    "gbmTree = GradientBoostingClassifier(max_depth=5)\n",
    "gbmTree.fit(X_train, Y_train)"
   ]
  },
  {
   "cell_type": "code",
   "execution_count": 20,
   "metadata": {},
   "outputs": [
    {
     "data": {
      "text/plain": [
       "RandomForestClassifier(bootstrap=True, class_weight=None, criterion='gini',\n",
       "            max_depth=5, max_features='auto', max_leaf_nodes=None,\n",
       "            min_impurity_decrease=0.0, min_impurity_split=None,\n",
       "            min_samples_leaf=1, min_samples_split=2,\n",
       "            min_weight_fraction_leaf=0.0, n_estimators=10, n_jobs=1,\n",
       "            oob_score=False, random_state=None, verbose=0,\n",
       "            warm_start=False)"
      ]
     },
     "execution_count": 20,
     "metadata": {},
     "output_type": "execute_result"
    }
   ],
   "source": [
    "rfTree = RandomForestClassifier(max_depth=5)\n",
    "rfTree.fit(X_train, Y_train)"
   ]
  },
  {
   "cell_type": "markdown",
   "metadata": {},
   "source": [
    "## Evaluating Classifier Performance"
   ]
  },
  {
   "cell_type": "code",
   "execution_count": 25,
   "metadata": {},
   "outputs": [
    {
     "data": {
      "text/plain": [
       "(array([0.75      , 0.82544104, 0.51598174]),\n",
       " array([0.05660377, 0.89346734, 0.4484127 ]),\n",
       " array([0.10526316, 0.85810811, 0.47983015]),\n",
       " array([ 53, 995, 252]))"
      ]
     },
     "execution_count": 25,
     "metadata": {},
     "output_type": "execute_result"
    }
   ],
   "source": [
    "simpleTreePerformance = precision_recall_fscore_support(Y_test,\n",
    "                                                        simpleTree.predict(X_test))\n",
    "simpleTreePerformance"
   ]
  },
  {
   "cell_type": "code",
   "execution_count": 26,
   "metadata": {},
   "outputs": [
    {
     "data": {
      "text/plain": [
       "(array([0.6       , 0.84615385, 0.73255814]),\n",
       " array([0.11320755, 0.95075377, 0.5       ]),\n",
       " array([0.19047619, 0.89540937, 0.59433962]),\n",
       " array([ 53, 995, 252]))"
      ]
     },
     "execution_count": 26,
     "metadata": {},
     "output_type": "execute_result"
    }
   ],
   "source": [
    "gbmTreePerformance = precision_recall_fscore_support(Y_test,\n",
    "                                                     gbmTree.predict(X_test))\n",
    "gbmTreePerformance"
   ]
  },
  {
   "cell_type": "code",
   "execution_count": 27,
   "metadata": {
    "scrolled": true
   },
   "outputs": [
    {
     "name": "stderr",
     "output_type": "stream",
     "text": [
      "/home/prateek/anaconda3/envs/dltf/lib/python3.6/site-packages/sklearn/metrics/classification.py:1135: UndefinedMetricWarning: Precision and F-score are ill-defined and being set to 0.0 in labels with no predicted samples.\n",
      "  'precision', 'predicted', average, warn_for)\n"
     ]
    },
    {
     "data": {
      "text/plain": [
       "(array([0.        , 0.79801325, 0.65217391]),\n",
       " array([0.        , 0.96884422, 0.23809524]),\n",
       " array([0.        , 0.87517022, 0.34883721]),\n",
       " array([ 53, 995, 252]))"
      ]
     },
     "execution_count": 27,
     "metadata": {},
     "output_type": "execute_result"
    }
   ],
   "source": [
    "rfTreePerformance = precision_recall_fscore_support(Y_test,\n",
    "                                                    rfTree.predict(X_test))\n",
    "rfTreePerformance"
   ]
  },
  {
   "cell_type": "code",
   "execution_count": 57,
   "metadata": {},
   "outputs": [
    {
     "name": "stdout",
     "output_type": "stream",
     "text": [
      "Precision, Recall, Fscore, and Support for each class in simple, gradient boosted, and random forest tree classifiers:\n",
      "\n",
      "Precision:  [0.75       0.82544104 0.51598174]\n",
      "Recall:  [0.05660377 0.89346734 0.4484127 ]\n",
      "Fscore:  [0.10526316 0.85810811 0.47983015]\n",
      "Support:  [ 53 995 252] \n",
      "\n",
      "Precision:  [0.6        0.84615385 0.73255814]\n",
      "Recall:  [0.11320755 0.95075377 0.5       ]\n",
      "Fscore:  [0.19047619 0.89540937 0.59433962]\n",
      "Support:  [ 53 995 252] \n",
      "\n",
      "Precision:  [0.         0.79801325 0.65217391]\n",
      "Recall:  [0.         0.96884422 0.23809524]\n",
      "Fscore:  [0.         0.87517022 0.34883721]\n",
      "Support:  [ 53 995 252] \n",
      "\n"
     ]
    }
   ],
   "source": [
    "print('Precision, Recall, Fscore, and Support for each class in simple, gradient boosted, and random forest tree classifiers:'+'\\n')\n",
    "for treeMethod in [simpleTreePerformance,gbmTreePerformance,rfTreePerformance]:\n",
    "    print('Precision: ',treeMethod[0])\n",
    "    print('Recall: ',treeMethod[1])\n",
    "    print('Fscore: ',treeMethod[2])\n",
    "    print('Support: ',treeMethod[3],'\\n')"
   ]
  },
  {
   "cell_type": "code",
   "execution_count": 49,
   "metadata": {},
   "outputs": [
    {
     "data": {
      "text/plain": [
       "<matplotlib.legend.Legend at 0x7f977988d470>"
      ]
     },
     "execution_count": 49,
     "metadata": {},
     "output_type": "execute_result"
    },
    {
     "data": {
      "image/png": "[encoded data removed]",
      "text/plain": [
       "<Figure size 432x288 with 1 Axes>"
      ]
     },
     "metadata": {},
     "output_type": "display_data"
    }
   ],
   "source": [
    "classifiers = [simpleTreePerformance, gbmTreePerformance, rfTreePerformance]\n",
    "\n",
    "n_classes=3\n",
    "index = np.arange(n_classes)\n",
    "bar_width = 0.2\n",
    "opacity = 0.8\n",
    "class1= [i[0][0] for i in classifiers]\n",
    "class2= [i[0][1] for i in classifiers]\n",
    "class3= [i[0][2] for i in classifiers]\n",
    "\n",
    "rects1 = plt.bar(index, class1, bar_width, alpha=opacity, color='b', label='Decision Tree')\n",
    "rects2 = plt.bar(index + bar_width, class2, bar_width, alpha=opacity, color='r', label='GBM Tree')\n",
    "rects1 = plt.bar(index + 2*bar_width, class3, bar_width, alpha=opacity, color='g', label='Random Forest')\n",
    "plt.xticks(index + bar_width, ('class 1', 'class 2', 'class 3'))\n",
    "plt.legend()"
   ]
  },
  {
   "cell_type": "code",
   "execution_count": 50,
   "metadata": {},
   "outputs": [
    {
     "data": {
      "text/plain": [
       "<matplotlib.legend.Legend at 0x7f977987e198>"
      ]
     },
     "execution_count": 50,
     "metadata": {},
     "output_type": "execute_result"
    },
    {
     "data": {
      "image/png": "[encoded data removed]",
      "text/plain": [
       "<Figure size 432x288 with 1 Axes>"
      ]
     },
     "metadata": {},
     "output_type": "display_data"
    }
   ],
   "source": [
    "class1= [i[1][0] for i in classifiers]\n",
    "class2= [i[1][1] for i in classifiers]\n",
    "class3= [i[1][2] for i in classifiers]\n",
    "\n",
    "rects1 = plt.bar(index, class1, bar_width, alpha=opacity, color='b', label='Decision Tree')\n",
    "rects2 = plt.bar(index + bar_width, class2, bar_width, alpha=opacity, color='r', label='GBM Tree')\n",
    "rects1 = plt.bar(index + 2*bar_width, class3, bar_width, alpha=opacity, color='g', label='Random Forest')\n",
    "plt.xticks(index + bar_width, ('class 1', 'class 2', 'class 3'))\n",
    "plt.legend()"
   ]
  },
  {
   "cell_type": "code",
   "execution_count": 53,
   "metadata": {},
   "outputs": [
    {
     "data": {
      "text/plain": [
       "<matplotlib.legend.Legend at 0x7f977972f390>"
      ]
     },
     "execution_count": 53,
     "metadata": {},
     "output_type": "execute_result"
    },
    {
     "data": {
      "image/png": "[encoded data removed]",
      "text/plain": [
       "<Figure size 432x288 with 1 Axes>"
      ]
     },
     "metadata": {},
     "output_type": "display_data"
    }
   ],
   "source": [
    "class1= [i[2][0] for i in classifiers]\n",
    "class2= [i[2][1] for i in classifiers]\n",
    "class3= [i[2][2] for i in classifiers]\n",
    "\n",
    "rects1 = plt.bar(index, class1, bar_width, alpha=opacity, color='b', label='Decision Tree')\n",
    "rects2 = plt.bar(index + bar_width, class2, bar_width, alpha=opacity, color='r', label='GBM Tree')\n",
    "rects1 = plt.bar(index + 2*bar_width, class3, bar_width, alpha=opacity, color='g', label='Random Forest')\n",
    "plt.xticks(index + bar_width, ('class 1', 'class 2', 'class 3'))\n",
    "plt.legend()"
   ]
  },
  {
   "cell_type": "code",
   "execution_count": 54,
   "metadata": {},
   "outputs": [
    {
     "name": "stdout",
     "output_type": "stream",
     "text": [
      "Confusion Matrix for simple, gradient boosted, and random forest tree classifiers:\n",
      "Simple Tree:\n",
      " [[  3  49   1]\n",
      " [  1 889 105]\n",
      " [  0 139 113]] \n",
      "\n",
      "Gradient Boosted:\n",
      " [[  6  46   1]\n",
      " [  4 946  45]\n",
      " [  0 126 126]] \n",
      "\n",
      "Random Forest:\n",
      " [[  0  52   1]\n",
      " [  0 964  31]\n",
      " [  0 192  60]]\n"
     ]
    }
   ],
   "source": [
    "print('Confusion Matrix for simple, gradient boosted, and random forest tree classifiers:')\n",
    "print('Simple Tree:\\n',confusion_matrix(Y_test,simpleTree.predict(X_test)),'\\n')\n",
    "print('Gradient Boosted:\\n',confusion_matrix(Y_test,gbmTree.predict(X_test)),'\\n')\n",
    "print('Random Forest:\\n',confusion_matrix(Y_test,rfTree.predict(X_test)))"
   ]
  },
  {
   "cell_type": "markdown",
   "metadata": {},
   "source": [
    "So, now that we know that the GBM tree is our favored classifier for predicting the tastiness of wines. GBM trees produce interpretable results, so we can call the feature_importances method against the GBM tree object and find out which features play the largest role in predicting tastiness."
   ]
  },
  {
   "cell_type": "code",
   "execution_count": 56,
   "metadata": {},
   "outputs": [
    {
     "name": "stdout",
     "output_type": "stream",
     "text": [
      "Feature Importances for GBM tree\n",
      "\n",
      "fixed acidity: 0.07266209290311769\n",
      "volatile acidity: 0.09686352995424061\n",
      "citric acid: 0.07400598128203767\n",
      "residual sugar: 0.08346647919160737\n",
      "chlorides: 0.09642196074703188\n",
      "free sulfur dioxide: 0.08908900243321564\n",
      "total sulfur dioxide: 0.10157934180761936\n",
      "density: 0.10841709274945117\n",
      "pH: 0.08082887598433434\n",
      "sulphates: 0.07935625155693848\n",
      "alcohol: 0.11730939139040583\n"
     ]
    }
   ],
   "source": [
    "print('Feature Importances for GBM tree\\n')\n",
    "for importance,feature in zip(gbmTree.feature_importances_,['fixed acidity', 'volatile acidity', 'citric acid', 'residual sugar','chlorides', 'free sulfur dioxide', 'total sulfur dioxide', 'density', 'pH', 'sulphates', 'alcohol']):\n",
    "    print('{}: {}'.format(feature,importance))\n"
   ]
  }
 ],
 "metadata": {
  "kernelspec": {
   "display_name": "Python 3",
   "language": "python",
   "name": "python3"
  },
  "language_info": {
   "codemirror_mode": {
    "name": "ipython",
    "version": 3
   },
   "file_extension": ".py",
   "mimetype": "text/x-python",
   "name": "python",
   "nbconvert_exporter": "python",
   "pygments_lexer": "ipython3",
   "version": "3.6.5"
  }
 },
 "nbformat": 4,
 "nbformat_minor": 2
}
