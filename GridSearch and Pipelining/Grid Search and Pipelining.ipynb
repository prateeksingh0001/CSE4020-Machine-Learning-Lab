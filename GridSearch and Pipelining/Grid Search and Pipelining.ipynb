{
 "cells": [
  {
   "cell_type": "markdown",
   "metadata": {},
   "source": [
    "# Pipelining in machine learning"
   ]
  },
  {
   "cell_type": "code",
   "execution_count": 2,
   "metadata": {},
   "outputs": [],
   "source": [
    "import numpy as np\n",
    "import pandas as pd\n",
    "import seaborn as sns\n",
    "\n",
    "from sklearn import tree\n",
    "from sklearn.externals import joblib\n",
    "from sklearn.decomposition import PCA\n",
    "from sklearn.pipeline import Pipeline\n",
    "from sklearn.datasets import load_iris\n",
    "from sklearn.metrics import accuracy_score\n",
    "from sklearn.ensemble import RandomForestClassifier\n",
    "from sklearn.svm import SVC\n",
    "from sklearn.linear_model import SGDClassifier\n",
    "from sklearn.metrics import confusion_matrix, classification_report\n",
    "from sklearn.preprocessing import StandardScaler, LabelEncoder\n",
    "from sklearn.model_selection import train_test_split, GridSearchCV, cross_val_score\n",
    "\n",
    "import matplotlib.pyplot as plt\n",
    "%matplotlib inline"
   ]
  },
  {
   "cell_type": "markdown",
   "metadata": {},
   "source": [
    "## Loading the dataset into memory"
   ]
  },
  {
   "cell_type": "code",
   "execution_count": 17,
   "metadata": {},
   "outputs": [],
   "source": [
    "iris = load_iris()\n",
    "X_train, X_test, y_train, y_test = train_test_split(iris.data, \n",
    "                                                    iris.target,\n",
    "                                                    test_size=0.2, \n",
    "                                                    random_state=42)"
   ]
  },
  {
   "cell_type": "markdown",
   "metadata": {},
   "source": [
    "## Constructing pipelines for data processing\n",
    "\n",
    "`sklearn.pipeline.Pipeline(steps, memory=None)`"
   ]
  },
  {
   "cell_type": "code",
   "execution_count": 18,
   "metadata": {},
   "outputs": [],
   "source": [
    "pipe_lr = Pipeline([('scl', StandardScaler()),\n",
    "                    ('pca', PCA(n_components=2)),\n",
    "                    ('clf', LogisticRegression(random_state=42))])\n",
    "\n",
    "pipe_svm = Pipeline([('scl', StandardScaler()),\n",
    "                     ('pca', PCA(n_components=2)),\n",
    "                     ('clf', svm.SVC(random_state=42))])\n",
    "\n",
    "pipe_dt = Pipeline([('scl', StandardScaler()),\n",
    "                    ('pca', PCA(n_components=2)),\n",
    "                    ('clf', tree.DecisionTreeClassifier(random_state=42))])\n",
    "\n",
    "# List of pipelines for ease of iteration\n",
    "pipelines = [pipe_lr, pipe_svm, pipe_dt]\n",
    "\n",
    "# Dictionary of pipelines and classifier types for ease of reference\n",
    "pipe_dict = {0: 'Logistic Regression', 1: 'Support Vector Machine', 2: 'Decision Tree'}"
   ]
  },
  {
   "cell_type": "markdown",
   "metadata": {},
   "source": [
    "## Fitting the data to the pipelines"
   ]
  },
  {
   "cell_type": "code",
   "execution_count": 19,
   "metadata": {},
   "outputs": [
    {
     "name": "stdout",
     "output_type": "stream",
     "text": [
      "Logistic Regression pipeline test accuracy: 0.933\n",
      "Support Vector Machine pipeline test accuracy: 0.900\n",
      "Decision Tree pipeline test accuracy: 0.867\n",
      "Classifier with best accuracy: Logistic Regression\n",
      "Saved Logistic Regression pipeline to file\n"
     ]
    }
   ],
   "source": [
    "# Fit the pipelines\n",
    "for pipe in pipelines:\n",
    "    pipe.fit(X_train, y_train)\n",
    "\n",
    "# Compare accuracies\n",
    "for idx, val in enumerate(pipelines):\n",
    "    print('%s pipeline test accuracy: %.3f' % (pipe_dict[idx], val.score(X_test, y_test)))\n",
    "\n",
    "# Identify the most accurate model on test data\n",
    "best_acc = 0.0\n",
    "best_clf = 0\n",
    "best_pipe = ''\n",
    "for idx, val in enumerate(pipelines):\n",
    "    if val.score(X_test, y_test) > best_acc:\n",
    "        best_acc = val.score(X_test, y_test)\n",
    "        best_pipe = val\n",
    "        best_clf = idx\n",
    "print('Classifier with best accuracy: %s' % pipe_dict[best_clf])\n",
    "\n",
    "# Save pipeline to file\n",
    "joblib.dump(best_pipe, 'best_pipeline.pkl', compress=1)\n",
    "print('Saved %s pipeline to file' % pipe_dict[best_clf])\n"
   ]
  },
  {
   "cell_type": "markdown",
   "metadata": {},
   "source": [
    "# Integrating pipeline with grid search"
   ]
  },
  {
   "cell_type": "code",
   "execution_count": 20,
   "metadata": {
    "scrolled": true
   },
   "outputs": [],
   "source": [
    "from sklearn.grid_search import GridSearchCV"
   ]
  },
  {
   "cell_type": "markdown",
   "metadata": {},
   "source": [
    "### List of parameters for the decision tree classifier"
   ]
  },
  {
   "cell_type": "code",
   "execution_count": 21,
   "metadata": {},
   "outputs": [
    {
     "name": "stdout",
     "output_type": "stream",
     "text": [
      "Decision tree model hyperparameters:\n",
      " {'class_weight': None, 'criterion': 'gini', 'max_depth': None, 'max_features': None, 'max_leaf_nodes': None, 'min_impurity_decrease': 0.0, 'min_impurity_split': None, 'min_samples_leaf': 1, 'min_samples_split': 2, 'min_weight_fraction_leaf': 0.0, 'presort': False, 'random_state': 42, 'splitter': 'best'}\n"
     ]
    }
   ],
   "source": [
    "print('Decision tree model hyperparameters:\\n', pipe_dt.steps[2][1].get_params())"
   ]
  },
  {
   "cell_type": "markdown",
   "metadata": {},
   "source": [
    "## Selected hyperparameters for grid search\n",
    "\n",
    "* **criterion** - This is the function used to evaluate the quality of the split; we will use both options available in Scikit-learn: Gini impurity and information gain (entropy)\n",
    "\n",
    "\n",
    "* **min_samples_leaf** - This is the minimum number of samples required for a valid leaf node; we will use the integer range 1 to 5\n",
    "\n",
    "\n",
    "* **max_depth** - The is the maximum depth of the tree; we will use the integer range 1 to 5\n",
    "\n",
    "\n",
    "* **min_samples_split** - This is the minimum number of samples required in order to split a non-leaf node; we will use the integer range 1 to 5\n",
    "\n",
    "\n",
    "* **presort** - This indicates whether or not to presort the data in order to speed up the location of best splits during fitting; this does not have any effect on the resulting model accuracy (only on training times)."
   ]
  },
  {
   "cell_type": "code",
   "execution_count": 22,
   "metadata": {},
   "outputs": [],
   "source": [
    "param_range = [1, 2, 3, 4, 5]\n",
    "\n",
    "# Set grid search params\n",
    "grid_params = [{'clf__criterion': ['gini', 'entropy'],\n",
    "                'clf__min_samples_leaf': param_range,\n",
    "                'clf__max_depth': param_range,\n",
    "                'clf__min_samples_split': param_range[1:],\n",
    "                'clf__presort': [True, False]}]"
   ]
  },
  {
   "cell_type": "code",
   "execution_count": 23,
   "metadata": {},
   "outputs": [],
   "source": [
    "# Construct grid search\n",
    "gs = GridSearchCV(estimator=pipe_dt,\n",
    "                  param_grid=grid_params,\n",
    "                  scoring='accuracy',\n",
    "                  cv=10)"
   ]
  },
  {
   "cell_type": "code",
   "execution_count": 24,
   "metadata": {},
   "outputs": [
    {
     "name": "stdout",
     "output_type": "stream",
     "text": [
      "Best accuracy: 0.925\n",
      "\n",
      "Best params:\n",
      " {'clf__criterion': 'gini', 'clf__max_depth': 2, 'clf__min_samples_leaf': 1, 'clf__min_samples_split': 2, 'clf__presort': True}\n"
     ]
    }
   ],
   "source": [
    "# Fit using grid search\n",
    "gs.fit(X_train, y_train)\n",
    "\n",
    "# Best accuracy\n",
    "print('Best accuracy: %.3f' % gs.best_score_)\n",
    "\n",
    "# Best params\n",
    "print('\\nBest params:\\n', gs.best_params_)"
   ]
  },
  {
   "cell_type": "markdown",
   "metadata": {},
   "source": [
    "# Managing multiple models, pipelines and grid searches"
   ]
  },
  {
   "cell_type": "code",
   "execution_count": 13,
   "metadata": {},
   "outputs": [],
   "source": [
    "# Construct some pipelines\n",
    "pipe_lr = Pipeline([('scl', StandardScaler()),\n",
    "                    ('clf', LogisticRegression(random_state=42))])\n",
    "\n",
    "pipe_lr_pca = Pipeline([('scl', StandardScaler()),\n",
    "                        ('pca', PCA(n_components=2)),\n",
    "                        ('clf', LogisticRegression(random_state=42))])\n",
    "\n",
    "pipe_rf = Pipeline([('scl', StandardScaler()),\n",
    "                    ('clf', RandomForestClassifier(random_state=42))])\n",
    "\n",
    "pipe_rf_pca = Pipeline([('scl', StandardScaler()),\n",
    "                        ('pca', PCA(n_components=2)),\n",
    "                        ('clf', RandomForestClassifier(random_state=42))])\n",
    "\n",
    "pipe_svm = Pipeline([('scl', StandardScaler()),\n",
    "                     ('clf', svm.SVC(random_state=42))])\n",
    "\n",
    "pipe_svm_pca = Pipeline([('scl', StandardScaler()),\n",
    "                         ('pca', PCA(n_components=2)),\n",
    "                         ('clf', svm.SVC(random_state=42))])\n"
   ]
  },
  {
   "cell_type": "markdown",
   "metadata": {},
   "source": [
    "## Setting up the grid search parameters for each classifier"
   ]
  },
  {
   "cell_type": "code",
   "execution_count": 13,
   "metadata": {},
   "outputs": [],
   "source": [
    "param_range = [1, 2, 3, 4, 5, 6, 7, 8, 9, 10]\n",
    "param_range_fl = [1.0, 0.5, 0.1]\n",
    "\n",
    "grid_params_lr = [{'clf__penalty': ['l1', 'l2'],\n",
    "                   'clf__C': param_range_fl,\n",
    "                   'clf__solver': ['liblinear']}] \n",
    "\n",
    "grid_params_rf = [{'clf__criterion': ['gini', 'entropy'],\n",
    "                   'clf__min_samples_leaf': param_range,\n",
    "                   'clf__max_depth': param_range,\n",
    "                   'clf__min_samples_split': param_range[1:]}]\n",
    "\n",
    "grid_params_svm = [{'clf__kernel': ['linear', 'rbf'], \n",
    "                    'clf__C': param_range}]\n"
   ]
  },
  {
   "cell_type": "markdown",
   "metadata": {},
   "source": [
    "## Execution"
   ]
  },
  {
   "cell_type": "code",
   "execution_count": 15,
   "metadata": {},
   "outputs": [],
   "source": [
    "jobs = -1\n",
    "\n",
    "gs_lr = GridSearchCV(estimator=pipe_lr,\n",
    "                     param_grid=grid_params_lr,\n",
    "                     scoring='accuracy',\n",
    "                     cv=10) \n",
    "\n",
    "gs_lr_pca = GridSearchCV(estimator=pipe_lr_pca,\n",
    "                         param_grid=grid_params_lr,\n",
    "                         scoring='accuracy',\n",
    "                         cv=10)\n",
    "\n",
    "gs_rf = GridSearchCV(estimator=pipe_rf,\n",
    "                     param_grid=grid_params_rf,\n",
    "                     scoring='accuracy',\n",
    "                     cv=10, \n",
    "                     n_jobs=jobs)\n",
    "\n",
    "gs_rf_pca = GridSearchCV(estimator=pipe_rf_pca,\n",
    "                         param_grid=grid_params_rf,\n",
    "                         scoring='accuracy',\n",
    "                         cv=10, \n",
    "                         n_jobs=jobs)\n",
    "\n",
    "gs_svm = GridSearchCV(estimator=pipe_svm,\n",
    "                      param_grid=grid_params_svm,\n",
    "                      scoring='accuracy',\n",
    "                      cv=10,\n",
    "                      n_jobs=jobs)\n",
    "\n",
    "gs_svm_pca = GridSearchCV(estimator=pipe_svm_pca,\n",
    "                          param_grid=grid_params_svm,\n",
    "                          scoring='accuracy',\n",
    "                          cv=10,\n",
    "                          n_jobs=jobs)\n"
   ]
  },
  {
   "cell_type": "code",
   "execution_count": 16,
   "metadata": {},
   "outputs": [],
   "source": [
    "grids = [gs_lr, gs_lr_pca, gs_rf, gs_rf_pca, gs_svm, gs_svm_pca]\n",
    "\n",
    "\n",
    "grid_dict = {0: 'Logistic Regression', 1: 'Logistic Regression w/PCA', \n",
    "             2: 'Random Forest', 3: 'Random Forest w/PCA', \n",
    "             4: 'Support Vector Machine', 5: 'Support Vector Machine w/PCA'}"
   ]
  },
  {
   "cell_type": "markdown",
   "metadata": {},
   "source": [
    "## Fitting the grid search objects"
   ]
  },
  {
   "cell_type": "code",
   "execution_count": 19,
   "metadata": {},
   "outputs": [
    {
     "name": "stdout",
     "output_type": "stream",
     "text": [
      "Performing model optimizations...\n",
      "\n",
      "Estimator: Logistic Regression\n",
      "Best params: {'clf__C': 1.0, 'clf__penalty': 'l1', 'clf__solver': 'liblinear'}\n",
      "Best training accuracy: 0.917\n",
      "Test set accuracy score for best params: 0.967 \n",
      "\n",
      "Estimator: Logistic Regression w/PCA\n",
      "Best params: {'clf__C': 0.5, 'clf__penalty': 'l1', 'clf__solver': 'liblinear'}\n",
      "Best training accuracy: 0.858\n",
      "Test set accuracy score for best params: 0.933 \n",
      "\n",
      "Estimator: Random Forest\n",
      "Best params: {'clf__criterion': 'gini', 'clf__max_depth': 3, 'clf__min_samples_leaf': 2, 'clf__min_samples_split': 2}\n",
      "Best training accuracy: 0.942\n",
      "Test set accuracy score for best params: 1.000 \n",
      "\n",
      "Estimator: Random Forest w/PCA\n",
      "Best params: {'clf__criterion': 'entropy', 'clf__max_depth': 5, 'clf__min_samples_leaf': 1, 'clf__min_samples_split': 3}\n",
      "Best training accuracy: 0.917\n",
      "Test set accuracy score for best params: 0.900 \n",
      "\n",
      "Estimator: Support Vector Machine\n",
      "Best params: {'clf__C': 3, 'clf__kernel': 'linear'}\n",
      "Best training accuracy: 0.967\n",
      "Test set accuracy score for best params: 0.967 \n",
      "\n",
      "Estimator: Support Vector Machine w/PCA\n",
      "Best params: {'clf__C': 4, 'clf__kernel': 'rbf'}\n",
      "Best training accuracy: 0.925\n",
      "Test set accuracy score for best params: 0.900 \n",
      "\n",
      "Classifier with best test set accuracy: Random Forest\n",
      "\n",
      "Saved Random Forest grid search pipeline to file: best_gs_pipeline.pkl\n"
     ]
    }
   ],
   "source": [
    "print('Performing model optimizations...')\n",
    "best_acc = 0.0\n",
    "best_clf = 0\n",
    "best_gs = ''\n",
    "for idx, gs in enumerate(grids):\n",
    "    print('\\nEstimator: %s' % grid_dict[idx])\t\n",
    "    # Fit grid search\n",
    "    gs.fit(X_train, y_train)\n",
    "    # Best params\n",
    "    print('Best params: %s' % gs.best_params_)\n",
    "    # Best training data accuracy\n",
    "    print('Best training accuracy: %.3f' % gs.best_score_)\n",
    "    # Predict on test data with best params\n",
    "    y_pred = gs.predict(X_test)\n",
    "    # Test data accuracy of model with best params\n",
    "    print('Test set accuracy score for best params: %.3f ' % accuracy_score(y_test, y_pred))\n",
    "    # Track best (highest test accuracy) model\n",
    "    if accuracy_score(y_test, y_pred) > best_acc:\n",
    "        best_acc = accuracy_score(y_test, y_pred)\n",
    "        best_gs = gs\n",
    "        best_clf = idx\n",
    "print('\\nClassifier with best test set accuracy: %s' % grid_dict[best_clf])\n",
    "\n",
    "# Save best grid search pipeline to file\n",
    "dump_file = 'best_gs_pipeline.pkl'\n",
    "joblib.dump(best_gs, dump_file, compress=1)\n",
    "print('\\nSaved %s grid search pipeline to file: %s' % (grid_dict[best_clf], dump_file))"
   ]
  },
  {
   "cell_type": "markdown",
   "metadata": {},
   "source": [
    "# On my own dataset"
   ]
  },
  {
   "cell_type": "markdown",
   "metadata": {
    "_cell_guid": "6876755d-3552-491d-b416-a012fbe221e4",
    "_uuid": "0b46910d15d98513ea81fb24e0f8ab28134c5f5f"
   },
   "source": [
    "*In this notebook, First I have done some exploration on the data using matplotlib and seaborn.\n",
    "Then, I use different classifier models to predict the quality of the wine.*\n",
    "\n",
    "**1. Random Forest Classifier**\n",
    "\n",
    "**2. Stochastic Gradient Descent Classifier**\n",
    "\n",
    "**3. Support Vector Classifier(SVC) **\n",
    "\n",
    "*Then I use cross validation evaluation technique to optimize the model performance.*\n",
    "\n",
    "**1. Grid Search CV**\n",
    "\n",
    "**2. Cross Validation Score**"
   ]
  },
  {
   "cell_type": "code",
   "execution_count": 6,
   "metadata": {
    "_cell_guid": "800f9ff4-79bf-4785-9569-23e1d9b9b03b",
    "_uuid": "07c8409e4eccd80507d9846e8cc70ea42e58cbe6"
   },
   "outputs": [],
   "source": [
    "#Loading dataset\n",
    "wine = pd.read_csv('../Dataset/winequality-red.csv', sep=';')"
   ]
  },
  {
   "cell_type": "code",
   "execution_count": 7,
   "metadata": {
    "_cell_guid": "019cbcee-6cb2-478c-922b-ccebe4962769",
    "_uuid": "45ff42953e9082cd55612a4774408cc97a05fb11"
   },
   "outputs": [
    {
     "data": {
      "text/html": [
       "<div>\n",
       "<style scoped>\n",
       "    .dataframe tbody tr th:only-of-type {\n",
       "        vertical-align: middle;\n",
       "    }\n",
       "\n",
       "    .dataframe tbody tr th {\n",
       "        vertical-align: top;\n",
       "    }\n",
       "\n",
       "    .dataframe thead th {\n",
       "        text-align: right;\n",
       "    }\n",
       "</style>\n",
       "<table border=\"1\" class=\"dataframe\">\n",
       "  <thead>\n",
       "    <tr style=\"text-align: right;\">\n",
       "      <th></th>\n",
       "      <th>fixed acidity</th>\n",
       "      <th>volatile acidity</th>\n",
       "      <th>citric acid</th>\n",
       "      <th>residual sugar</th>\n",
       "      <th>chlorides</th>\n",
       "      <th>free sulfur dioxide</th>\n",
       "      <th>total sulfur dioxide</th>\n",
       "      <th>density</th>\n",
       "      <th>pH</th>\n",
       "      <th>sulphates</th>\n",
       "      <th>alcohol</th>\n",
       "      <th>quality</th>\n",
       "    </tr>\n",
       "  </thead>\n",
       "  <tbody>\n",
       "    <tr>\n",
       "      <th>0</th>\n",
       "      <td>7.4</td>\n",
       "      <td>0.70</td>\n",
       "      <td>0.00</td>\n",
       "      <td>1.9</td>\n",
       "      <td>0.076</td>\n",
       "      <td>11.0</td>\n",
       "      <td>34.0</td>\n",
       "      <td>0.9978</td>\n",
       "      <td>3.51</td>\n",
       "      <td>0.56</td>\n",
       "      <td>9.4</td>\n",
       "      <td>5</td>\n",
       "    </tr>\n",
       "    <tr>\n",
       "      <th>1</th>\n",
       "      <td>7.8</td>\n",
       "      <td>0.88</td>\n",
       "      <td>0.00</td>\n",
       "      <td>2.6</td>\n",
       "      <td>0.098</td>\n",
       "      <td>25.0</td>\n",
       "      <td>67.0</td>\n",
       "      <td>0.9968</td>\n",
       "      <td>3.20</td>\n",
       "      <td>0.68</td>\n",
       "      <td>9.8</td>\n",
       "      <td>5</td>\n",
       "    </tr>\n",
       "    <tr>\n",
       "      <th>2</th>\n",
       "      <td>7.8</td>\n",
       "      <td>0.76</td>\n",
       "      <td>0.04</td>\n",
       "      <td>2.3</td>\n",
       "      <td>0.092</td>\n",
       "      <td>15.0</td>\n",
       "      <td>54.0</td>\n",
       "      <td>0.9970</td>\n",
       "      <td>3.26</td>\n",
       "      <td>0.65</td>\n",
       "      <td>9.8</td>\n",
       "      <td>5</td>\n",
       "    </tr>\n",
       "    <tr>\n",
       "      <th>3</th>\n",
       "      <td>11.2</td>\n",
       "      <td>0.28</td>\n",
       "      <td>0.56</td>\n",
       "      <td>1.9</td>\n",
       "      <td>0.075</td>\n",
       "      <td>17.0</td>\n",
       "      <td>60.0</td>\n",
       "      <td>0.9980</td>\n",
       "      <td>3.16</td>\n",
       "      <td>0.58</td>\n",
       "      <td>9.8</td>\n",
       "      <td>6</td>\n",
       "    </tr>\n",
       "    <tr>\n",
       "      <th>4</th>\n",
       "      <td>7.4</td>\n",
       "      <td>0.70</td>\n",
       "      <td>0.00</td>\n",
       "      <td>1.9</td>\n",
       "      <td>0.076</td>\n",
       "      <td>11.0</td>\n",
       "      <td>34.0</td>\n",
       "      <td>0.9978</td>\n",
       "      <td>3.51</td>\n",
       "      <td>0.56</td>\n",
       "      <td>9.4</td>\n",
       "      <td>5</td>\n",
       "    </tr>\n",
       "  </tbody>\n",
       "</table>\n",
       "</div>"
      ],
      "text/plain": [
       "   fixed acidity  volatile acidity  citric acid  residual sugar  chlorides  \\\n",
       "0            7.4              0.70         0.00             1.9      0.076   \n",
       "1            7.8              0.88         0.00             2.6      0.098   \n",
       "2            7.8              0.76         0.04             2.3      0.092   \n",
       "3           11.2              0.28         0.56             1.9      0.075   \n",
       "4            7.4              0.70         0.00             1.9      0.076   \n",
       "\n",
       "   free sulfur dioxide  total sulfur dioxide  density    pH  sulphates  \\\n",
       "0                 11.0                  34.0   0.9978  3.51       0.56   \n",
       "1                 25.0                  67.0   0.9968  3.20       0.68   \n",
       "2                 15.0                  54.0   0.9970  3.26       0.65   \n",
       "3                 17.0                  60.0   0.9980  3.16       0.58   \n",
       "4                 11.0                  34.0   0.9978  3.51       0.56   \n",
       "\n",
       "   alcohol  quality  \n",
       "0      9.4        5  \n",
       "1      9.8        5  \n",
       "2      9.8        5  \n",
       "3      9.8        6  \n",
       "4      9.4        5  "
      ]
     },
     "execution_count": 7,
     "metadata": {},
     "output_type": "execute_result"
    }
   ],
   "source": [
    "#Let's check how the data is distributed\n",
    "wine.head()"
   ]
  },
  {
   "cell_type": "code",
   "execution_count": 8,
   "metadata": {
    "_cell_guid": "704f4830-5804-436d-9b78-6ca00f5ae510",
    "_uuid": "af141503385967f92d409c5e111e2724b4c9636f"
   },
   "outputs": [
    {
     "name": "stdout",
     "output_type": "stream",
     "text": [
      "<class 'pandas.core.frame.DataFrame'>\n",
      "RangeIndex: 1599 entries, 0 to 1598\n",
      "Data columns (total 12 columns):\n",
      "fixed acidity           1599 non-null float64\n",
      "volatile acidity        1599 non-null float64\n",
      "citric acid             1599 non-null float64\n",
      "residual sugar          1599 non-null float64\n",
      "chlorides               1599 non-null float64\n",
      "free sulfur dioxide     1599 non-null float64\n",
      "total sulfur dioxide    1599 non-null float64\n",
      "density                 1599 non-null float64\n",
      "pH                      1599 non-null float64\n",
      "sulphates               1599 non-null float64\n",
      "alcohol                 1599 non-null float64\n",
      "quality                 1599 non-null int64\n",
      "dtypes: float64(11), int64(1)\n",
      "memory usage: 150.0 KB\n"
     ]
    }
   ],
   "source": [
    "#Information about the data columns\n",
    "wine.info()"
   ]
  },
  {
   "cell_type": "markdown",
   "metadata": {
    "_cell_guid": "12b9e3c1-006d-4b1d-b01d-02be5a594bbb",
    "_uuid": "e9ad3ce0e67ea7a5178222164d784a974846bc54"
   },
   "source": [
    "## **Let's do some plotting to know how the data columns are distributed in the dataset**"
   ]
  },
  {
   "cell_type": "code",
   "execution_count": 9,
   "metadata": {
    "_cell_guid": "f6a9d2eb-e03c-4c8b-8d7f-c0cb735d9ce9",
    "_uuid": "255e8fd04c90eae23164df043ebf16550ecff8fe"
   },
   "outputs": [
    {
     "data": {
      "text/plain": [
       "<matplotlib.axes._subplots.AxesSubplot at 0x7f7135278940>"
      ]
     },
     "execution_count": 9,
     "metadata": {},
     "output_type": "execute_result"
    },
    {
     "data": {
      "image/png": "[encoded data removed]",
      "text/plain": [
       "<Figure size 720x432 with 1 Axes>"
      ]
     },
     "metadata": {},
     "output_type": "display_data"
    }
   ],
   "source": [
    "#Here we see that fixed acidity does not give any specification to classify the quality.\n",
    "fig = plt.figure(figsize = (10,6))\n",
    "sns.barplot(x = 'quality', y = 'fixed acidity', data = wine)"
   ]
  },
  {
   "cell_type": "code",
   "execution_count": 10,
   "metadata": {
    "_cell_guid": "7d7355dc-9c09-4e5e-8989-87f903197898",
    "_uuid": "158a576b3fb80cc0978c322663bc5060d8977be0"
   },
   "outputs": [
    {
     "data": {
      "text/plain": [
       "<matplotlib.axes._subplots.AxesSubplot at 0x7f71316a3860>"
      ]
     },
     "execution_count": 10,
     "metadata": {},
     "output_type": "execute_result"
    },
    {
     "data": {
      "image/png": "[encoded data removed]",
      "text/plain": [
       "<Figure size 720x432 with 1 Axes>"
      ]
     },
     "metadata": {},
     "output_type": "display_data"
    }
   ],
   "source": [
    "#Here we see that its quite a downing trend in the volatile acidity as we go higher the quality \n",
    "fig = plt.figure(figsize = (10,6))\n",
    "sns.barplot(x = 'quality', y = 'volatile acidity', data = wine)"
   ]
  },
  {
   "cell_type": "code",
   "execution_count": 11,
   "metadata": {
    "_cell_guid": "08f073d3-787b-4956-899b-6bd2bdf3cf91",
    "_uuid": "9600cd337636a7860a908fa36ad8084e230829ca"
   },
   "outputs": [
    {
     "data": {
      "text/plain": [
       "<matplotlib.axes._subplots.AxesSubplot at 0x7f713166f0b8>"
      ]
     },
     "execution_count": 11,
     "metadata": {},
     "output_type": "execute_result"
    },
    {
     "data": {
      "image/png": "[encoded data removed]",
      "text/plain": [
       "<Figure size 720x432 with 1 Axes>"
      ]
     },
     "metadata": {},
     "output_type": "display_data"
    }
   ],
   "source": [
    "#Composition of citric acid go higher as we go higher in the quality of the wine\n",
    "fig = plt.figure(figsize = (10,6))\n",
    "sns.barplot(x = 'quality', y = 'citric acid', data = wine)"
   ]
  },
  {
   "cell_type": "code",
   "execution_count": 12,
   "metadata": {
    "_cell_guid": "7dcb76bc-3436-46bd-9d7f-78ccd436517e",
    "_uuid": "6b017770cef61eefb34b4607218c77f933350389"
   },
   "outputs": [
    {
     "data": {
      "text/plain": [
       "<matplotlib.axes._subplots.AxesSubplot at 0x7f71315e5438>"
      ]
     },
     "execution_count": 12,
     "metadata": {},
     "output_type": "execute_result"
    },
    {
     "data": {
      "image/png": "[encoded data removed]",
      "text/plain": [
       "<Figure size 720x432 with 1 Axes>"
      ]
     },
     "metadata": {},
     "output_type": "display_data"
    }
   ],
   "source": [
    "fig = plt.figure(figsize = (10,6))\n",
    "sns.barplot(x = 'quality', y = 'residual sugar', data = wine)"
   ]
  },
  {
   "cell_type": "code",
   "execution_count": 13,
   "metadata": {
    "_cell_guid": "76463630-67d9-4b07-8076-fba8b49a9921",
    "_uuid": "31fe5d393946e406cbe62d3f4c7951e0b493c454"
   },
   "outputs": [
    {
     "data": {
      "text/plain": [
       "<matplotlib.axes._subplots.AxesSubplot at 0x7f7131588a20>"
      ]
     },
     "execution_count": 13,
     "metadata": {},
     "output_type": "execute_result"
    },
    {
     "data": {
      "image/png": "[encoded data removed]",
      "text/plain": [
       "<Figure size 720x432 with 1 Axes>"
      ]
     },
     "metadata": {},
     "output_type": "display_data"
    }
   ],
   "source": [
    "#Composition of chloride also go down as we go higher in the quality of the wine\n",
    "fig = plt.figure(figsize = (10,6))\n",
    "sns.barplot(x = 'quality', y = 'chlorides', data = wine)"
   ]
  },
  {
   "cell_type": "code",
   "execution_count": 14,
   "metadata": {
    "_cell_guid": "6abcf7a2-cc7a-4673-a905-6ee0c2cc9e15",
    "_uuid": "6ba9a0dafe8e1042da4dbcaa93706dd46cf3a85c"
   },
   "outputs": [
    {
     "data": {
      "text/plain": [
       "<matplotlib.axes._subplots.AxesSubplot at 0x7f7131502be0>"
      ]
     },
     "execution_count": 14,
     "metadata": {},
     "output_type": "execute_result"
    },
    {
     "data": {
      "image/png": "[encoded data removed]",
      "text/plain": [
       "<Figure size 720x432 with 1 Axes>"
      ]
     },
     "metadata": {},
     "output_type": "display_data"
    }
   ],
   "source": [
    "fig = plt.figure(figsize = (10,6))\n",
    "sns.barplot(x = 'quality', y = 'free sulfur dioxide', data = wine)"
   ]
  },
  {
   "cell_type": "code",
   "execution_count": 15,
   "metadata": {
    "_cell_guid": "9acea621-2b7b-44b7-a0fa-b984dd8c0e93",
    "_uuid": "d99c6e4033da73cdc9d9977ac045372ff9af1c53"
   },
   "outputs": [
    {
     "data": {
      "text/plain": [
       "<matplotlib.axes._subplots.AxesSubplot at 0x7f71314db5f8>"
      ]
     },
     "execution_count": 15,
     "metadata": {},
     "output_type": "execute_result"
    },
    {
     "data": {
      "image/png": "[encoded data removed]",
      "text/plain": [
       "<Figure size 720x432 with 1 Axes>"
      ]
     },
     "metadata": {},
     "output_type": "display_data"
    }
   ],
   "source": [
    "fig = plt.figure(figsize = (10,6))\n",
    "sns.barplot(x = 'quality', y = 'total sulfur dioxide', data = wine)"
   ]
  },
  {
   "cell_type": "code",
   "execution_count": 16,
   "metadata": {
    "_cell_guid": "bf0b1aa4-8a6c-4f95-80c3-7554b38a9c96",
    "_uuid": "ae9a7496f5c238ec9bb95729b17960c6e48efe35"
   },
   "outputs": [
    {
     "data": {
      "text/plain": [
       "<matplotlib.axes._subplots.AxesSubplot at 0x7f71313e27f0>"
      ]
     },
     "execution_count": 16,
     "metadata": {},
     "output_type": "execute_result"
    },
    {
     "data": {
      "image/png": "[encoded data removed]",
      "text/plain": [
       "<Figure size 720x432 with 1 Axes>"
      ]
     },
     "metadata": {},
     "output_type": "display_data"
    }
   ],
   "source": [
    "#Sulphates level goes higher with the quality of wine\n",
    "fig = plt.figure(figsize = (10,6))\n",
    "sns.barplot(x = 'quality', y = 'sulphates', data = wine)"
   ]
  },
  {
   "cell_type": "code",
   "execution_count": 17,
   "metadata": {
    "_cell_guid": "04f51b1d-6315-44d3-986c-ed82fc996ad3",
    "_uuid": "81efa0b7799cd731aff98cffeaa28c361a7375a5"
   },
   "outputs": [
    {
     "data": {
      "text/plain": [
       "<matplotlib.axes._subplots.AxesSubplot at 0x7f713144dac8>"
      ]
     },
     "execution_count": 17,
     "metadata": {},
     "output_type": "execute_result"
    },
    {
     "data": {
      "image/png": "[encoded data removed]",
      "text/plain": [
       "<Figure size 720x432 with 1 Axes>"
      ]
     },
     "metadata": {},
     "output_type": "display_data"
    }
   ],
   "source": [
    "#Alcohol level also goes higher as te quality of wine increases\n",
    "fig = plt.figure(figsize = (10,6))\n",
    "sns.barplot(x = 'quality', y = 'alcohol', data = wine)"
   ]
  },
  {
   "cell_type": "markdown",
   "metadata": {
    "_cell_guid": "9838ca3d-4b89-4503-9d7e-247cc3a9730b",
    "_uuid": "974be3136a2f13bf26a88b26cbddbf73f5cafda9"
   },
   "source": [
    "## Preprocessing Data for performing Machine learning algorithms"
   ]
  },
  {
   "cell_type": "code",
   "execution_count": 18,
   "metadata": {
    "_cell_guid": "33e1c5c0-a65a-4918-8d94-db8e4c521d50",
    "_uuid": "3f082340d1b157391052f0fa20a44aa0105ce987"
   },
   "outputs": [],
   "source": [
    "#Making binary classificaion for the response variable.\n",
    "#Dividing wine as good and bad by giving the limit for the quality\n",
    "bins = (2, 6.5, 8)\n",
    "group_names = ['bad', 'good']\n",
    "wine['quality'] = pd.cut(wine['quality'], bins = bins, labels = group_names)"
   ]
  },
  {
   "cell_type": "code",
   "execution_count": 19,
   "metadata": {
    "_cell_guid": "21a15507-cc97-4c40-835b-51fd79f7cdd9",
    "_uuid": "87127b3c5e9493a9364b3c63401ddb11a51373a1"
   },
   "outputs": [],
   "source": [
    "#Now lets assign a labels to our quality variable\n",
    "label_quality = LabelEncoder()"
   ]
  },
  {
   "cell_type": "code",
   "execution_count": 20,
   "metadata": {
    "_cell_guid": "f4c3a886-4b1f-4533-a660-b7ffb66376c2",
    "_uuid": "a592e2b8ece55e8d5928241eb5b9188226a725bf"
   },
   "outputs": [],
   "source": [
    "#Bad becomes 0 and good becomes 1 \n",
    "wine['quality'] = label_quality.fit_transform(wine['quality'])"
   ]
  },
  {
   "cell_type": "code",
   "execution_count": 21,
   "metadata": {
    "_cell_guid": "faa36f65-7e80-44d7-a4f8-10e482cec684",
    "_uuid": "65a97517331f835cade698b594a7376ea7778eeb"
   },
   "outputs": [
    {
     "data": {
      "text/plain": [
       "0    1382\n",
       "1     217\n",
       "Name: quality, dtype: int64"
      ]
     },
     "execution_count": 21,
     "metadata": {},
     "output_type": "execute_result"
    }
   ],
   "source": [
    "wine['quality'].value_counts()"
   ]
  },
  {
   "cell_type": "code",
   "execution_count": 22,
   "metadata": {
    "_cell_guid": "2fe7339e-837e-48c0-b988-a36c89632844",
    "_uuid": "d2a4c7e14dc6b8faa31efd1fcbe4f61b80a7d3e1"
   },
   "outputs": [
    {
     "data": {
      "text/plain": [
       "<matplotlib.axes._subplots.AxesSubplot at 0x7f713131ffd0>"
      ]
     },
     "execution_count": 22,
     "metadata": {},
     "output_type": "execute_result"
    },
    {
     "data": {
      "image/png": "[encoded data removed]",
      "text/plain": [
       "<Figure size 432x288 with 1 Axes>"
      ]
     },
     "metadata": {},
     "output_type": "display_data"
    }
   ],
   "source": [
    "sns.countplot(wine['quality'])"
   ]
  },
  {
   "cell_type": "code",
   "execution_count": 23,
   "metadata": {
    "_cell_guid": "ba89712a-ad66-4a92-9214-4e35c3802d59",
    "_uuid": "b893deb26bb309c914de12aadf9ad8437deb8358"
   },
   "outputs": [],
   "source": [
    "#Now seperate the dataset as response variable and feature variabes\n",
    "X = wine.drop('quality', axis = 1)\n",
    "y = wine['quality']"
   ]
  },
  {
   "cell_type": "code",
   "execution_count": 24,
   "metadata": {
    "_cell_guid": "d7703d9a-3397-4c42-9b38-6f341cac1cde",
    "_uuid": "bdfc0f6ba146f947f265fd493e8327366fdb5c9a"
   },
   "outputs": [],
   "source": [
    "#Train and Test splitting of data \n",
    "X_train, X_test, y_train, y_test = train_test_split(X, y, test_size = 0.2, random_state = 42)"
   ]
  },
  {
   "cell_type": "code",
   "execution_count": 25,
   "metadata": {
    "_cell_guid": "cef31289-9cec-4ab1-afea-2ff34c36fec1",
    "_uuid": "ca68209bcd596b3cfcaf42837e4a6e49b6c12974"
   },
   "outputs": [],
   "source": [
    "#Applying Standard scaling to get optimized result\n",
    "sc = StandardScaler()"
   ]
  },
  {
   "cell_type": "code",
   "execution_count": 26,
   "metadata": {
    "_cell_guid": "705b8e8a-a6d3-4e93-8b53-7c677b5b88c4",
    "_uuid": "7878194b0c4935904c68a88a91e18f9bbbabbda7"
   },
   "outputs": [],
   "source": [
    "X_train = sc.fit_transform(X_train)\n",
    "X_test = sc.fit_transform(X_test)"
   ]
  },
  {
   "cell_type": "markdown",
   "metadata": {
    "_cell_guid": "645e952e-09b5-48df-9d08-aa6454ef333a",
    "_uuid": "3fd28a9b12fd0f5a00bc0add378ca1f9632bc319"
   },
   "source": [
    "## Our training and testing data is ready now to perform machine learning algorithm"
   ]
  },
  {
   "cell_type": "markdown",
   "metadata": {
    "_cell_guid": "0a12868b-8780-43b9-ae70-4c849407aac6",
    "_uuid": "093572f70cda59063611c1c888974e6a863ec7ef"
   },
   "source": [
    "### Random Forest Classifier"
   ]
  },
  {
   "cell_type": "code",
   "execution_count": 27,
   "metadata": {
    "_cell_guid": "f7d2ca14-40fa-4b7c-b902-d47f09214c75",
    "_uuid": "4c2c2a071bde3b44adf031a6807f51b47f8b5eaa"
   },
   "outputs": [],
   "source": [
    "rfc = RandomForestClassifier(n_estimators=200)\n",
    "rfc.fit(X_train, y_train)\n",
    "pred_rfc = rfc.predict(X_test)"
   ]
  },
  {
   "cell_type": "code",
   "execution_count": 28,
   "metadata": {
    "_cell_guid": "1cc15e56-0589-4fa3-a4f1-6f5e7b5547b2",
    "_uuid": "61e8a79a7db4fef289b8d4e3b3dd8e1c01756697"
   },
   "outputs": [
    {
     "name": "stdout",
     "output_type": "stream",
     "text": [
      "             precision    recall  f1-score   support\n",
      "\n",
      "          0       0.91      0.96      0.93       273\n",
      "          1       0.65      0.43      0.51        47\n",
      "\n",
      "avg / total       0.87      0.88      0.87       320\n",
      "\n"
     ]
    }
   ],
   "source": [
    "#Let's see how our model performed\n",
    "print(classification_report(y_test, pred_rfc))"
   ]
  },
  {
   "cell_type": "markdown",
   "metadata": {
    "_cell_guid": "6fc282fd-9db3-4c69-bf91-f9daaaec615b",
    "_uuid": "eaa7b2cbb80adbb06133b9cd89a8ebae014dc3e8"
   },
   "source": [
    "#### Random forest gives the accuracy of 87%"
   ]
  },
  {
   "cell_type": "code",
   "execution_count": 29,
   "metadata": {
    "_cell_guid": "84334dbd-d36c-4650-87ab-d3e8f73be63c",
    "_uuid": "0fd8c7cd7741be25fd0d5f56d5711e8aaf44ac0f"
   },
   "outputs": [
    {
     "name": "stdout",
     "output_type": "stream",
     "text": [
      "[[262  11]\n",
      " [ 27  20]]\n"
     ]
    }
   ],
   "source": [
    "#Confusion matrix for the random forest classification\n",
    "print(confusion_matrix(y_test, pred_rfc))"
   ]
  },
  {
   "cell_type": "markdown",
   "metadata": {
    "_cell_guid": "cb7432d3-16a5-4764-b792-def2666dffbe",
    "_uuid": "6bb4d5afc35743acfd4630d12038c29f2459ce39"
   },
   "source": [
    "\n",
    "\n",
    "## Stochastic Gradient Decent Classifier"
   ]
  },
  {
   "cell_type": "code",
   "execution_count": 30,
   "metadata": {
    "_cell_guid": "d6835aea-7d7c-4602-b3f3-11e26a37f816",
    "_uuid": "2e1bc3b870d29573b09f1c590ee18011e29af7c3"
   },
   "outputs": [
    {
     "name": "stderr",
     "output_type": "stream",
     "text": [
      "/home/prateek/anaconda3/envs/dltf/lib/python3.6/site-packages/sklearn/linear_model/stochastic_gradient.py:128: FutureWarning: max_iter and tol parameters have been added in <class 'sklearn.linear_model.stochastic_gradient.SGDClassifier'> in 0.19. If both are left unset, they default to max_iter=5 and tol=None. If tol is not None, max_iter defaults to max_iter=1000. From 0.21, default max_iter will be 1000, and default tol will be 1e-3.\n",
      "  \"and default tol will be 1e-3.\" % type(self), FutureWarning)\n"
     ]
    }
   ],
   "source": [
    "sgd = SGDClassifier(penalty=None)\n",
    "sgd.fit(X_train, y_train)\n",
    "pred_sgd = sgd.predict(X_test)"
   ]
  },
  {
   "cell_type": "code",
   "execution_count": 31,
   "metadata": {
    "_cell_guid": "ff591dec-adf0-422a-85f6-97c1a27b62f6",
    "_uuid": "c5bdce42ff74ac8c4b6d3eb5b40107b301eec037"
   },
   "outputs": [
    {
     "name": "stdout",
     "output_type": "stream",
     "text": [
      "             precision    recall  f1-score   support\n",
      "\n",
      "          0       0.89      0.93      0.91       273\n",
      "          1       0.47      0.34      0.40        47\n",
      "\n",
      "avg / total       0.83      0.85      0.84       320\n",
      "\n"
     ]
    }
   ],
   "source": [
    "print(classification_report(y_test, pred_sgd))"
   ]
  },
  {
   "cell_type": "markdown",
   "metadata": {
    "_cell_guid": "674724bc-e600-4f3e-999a-9b99c4d564be",
    "_uuid": "26ef4101c3c8d17b7524378bb7b59ea2d2a4e762"
   },
   "source": [
    "#### 84% accuracy using stochastic gradient descent classifier"
   ]
  },
  {
   "cell_type": "code",
   "execution_count": 32,
   "metadata": {
    "_cell_guid": "2f2ff080-986a-4a64-8f74-8a3afd4e494f",
    "_uuid": "593afdb03d06d44529cba0d8348aced10f1cd276"
   },
   "outputs": [
    {
     "name": "stdout",
     "output_type": "stream",
     "text": [
      "[[255  18]\n",
      " [ 31  16]]\n"
     ]
    }
   ],
   "source": [
    "print(confusion_matrix(y_test, pred_sgd))"
   ]
  },
  {
   "cell_type": "markdown",
   "metadata": {
    "_cell_guid": "eda98e5a-552d-4318-8ae7-1fc45c360be4",
    "_uuid": "9ec5e14c6c24713d6b6e0aaa76ddc5d45886c626"
   },
   "source": [
    "## Support Vector Classifier"
   ]
  },
  {
   "cell_type": "code",
   "execution_count": 33,
   "metadata": {
    "_cell_guid": "c09c2885-0ae7-424b-8bfb-8d60eeab8910",
    "_uuid": "432c960068fac4d27d9be14a39ac0fe92933f532"
   },
   "outputs": [],
   "source": [
    "svc = SVC()\n",
    "svc.fit(X_train, y_train)\n",
    "pred_svc = svc.predict(X_test)"
   ]
  },
  {
   "cell_type": "code",
   "execution_count": 34,
   "metadata": {
    "_cell_guid": "a9bd5ed8-fed7-4d12-8f84-ee02b345f7f3",
    "_uuid": "bc3c13a5596baf43c4c40dbddea247e3ee470d31"
   },
   "outputs": [
    {
     "name": "stdout",
     "output_type": "stream",
     "text": [
      "             precision    recall  f1-score   support\n",
      "\n",
      "          0       0.88      0.98      0.93       273\n",
      "          1       0.71      0.26      0.37        47\n",
      "\n",
      "avg / total       0.86      0.88      0.85       320\n",
      "\n"
     ]
    }
   ],
   "source": [
    "print(classification_report(y_test, pred_svc))"
   ]
  },
  {
   "cell_type": "markdown",
   "metadata": {
    "_cell_guid": "253d6200-8035-400c-a022-00d2bbd7f045",
    "_uuid": "3d4ac7ee94b2a081d5cb8caa1cfd99e41b8940fb"
   },
   "source": [
    "#### Support vector classifier gets 86%"
   ]
  },
  {
   "cell_type": "markdown",
   "metadata": {
    "_cell_guid": "ea15f1a9-eec6-4d08-a68d-8e3fce6f6b8a",
    "_uuid": "b11f94fdee6a4bfed980793d94ad5c17e33b7d39"
   },
   "source": [
    "## Grid Search CV\n",
    "\n",
    "Trying out a pipeline with PCA and standard scaler"
   ]
  },
  {
   "cell_type": "code",
   "execution_count": 45,
   "metadata": {},
   "outputs": [],
   "source": [
    "#Finding best parameters for our SVC model\n",
    "param = {\n",
    "    'clf__C': [0.1,0.8,0.9,1,1.1,1.2,1.3,1.4],\n",
    "    'clf__kernel':['linear', 'rbf'],\n",
    "    'clf__gamma' :[0.1,0.8,0.9,1,1.1,1.2,1.3,1.4]\n",
    "}\n",
    "\n",
    "pipeline_svc = Pipeline([('scl', StandardScaler()),\n",
    "                         ('pca', PCA(n_components=3)),\n",
    "                    ('clf', SVC())])\n",
    "\n",
    "grid_svc = GridSearchCV(estimator=pipeline_svc, param_grid=param, scoring='accuracy', cv=10)"
   ]
  },
  {
   "cell_type": "code",
   "execution_count": 46,
   "metadata": {},
   "outputs": [
    {
     "data": {
      "text/plain": [
       "GridSearchCV(cv=10, error_score='raise',\n",
       "       estimator=Pipeline(memory=None,\n",
       "     steps=[('scl', StandardScaler(copy=True, with_mean=True, with_std=True)), ('pca', PCA(copy=True, iterated_power='auto', n_components=3, random_state=None,\n",
       "  svd_solver='auto', tol=0.0, whiten=False)), ('clf', SVC(C=1.0, cache_size=200, class_weight=None, coef0=0.0,\n",
       "  decision_function_shape='ovr', degree=3, gamma='auto', kernel='rbf',\n",
       "  max_iter=-1, probability=False, random_state=None, shrinking=True,\n",
       "  tol=0.001, verbose=False))]),\n",
       "       fit_params=None, iid=True, n_jobs=1,\n",
       "       param_grid={'clf__C': [0.1, 0.8, 0.9, 1, 1.1, 1.2, 1.3, 1.4], 'clf__kernel': ['linear', 'rbf'], 'clf__gamma': [0.1, 0.8, 0.9, 1, 1.1, 1.2, 1.3, 1.4]},\n",
       "       pre_dispatch='2*n_jobs', refit=True, return_train_score='warn',\n",
       "       scoring='accuracy', verbose=0)"
      ]
     },
     "execution_count": 46,
     "metadata": {},
     "output_type": "execute_result"
    }
   ],
   "source": [
    "grid_svc.fit(X_train, y_train)"
   ]
  },
  {
   "cell_type": "code",
   "execution_count": 47,
   "metadata": {},
   "outputs": [
    {
     "data": {
      "text/plain": [
       "{'clf__C': 1.1, 'clf__gamma': 0.8, 'clf__kernel': 'rbf'}"
      ]
     },
     "execution_count": 47,
     "metadata": {},
     "output_type": "execute_result"
    }
   ],
   "source": [
    "#Best parameters for our svc model\n",
    "grid_svc.best_params_"
   ]
  },
  {
   "cell_type": "code",
   "execution_count": 48,
   "metadata": {},
   "outputs": [
    {
     "name": "stdout",
     "output_type": "stream",
     "text": [
      "             precision    recall  f1-score   support\n",
      "\n",
      "          0       0.89      0.99      0.94       273\n",
      "          1       0.88      0.32      0.47        47\n",
      "\n",
      "avg / total       0.89      0.89      0.87       320\n",
      "\n"
     ]
    }
   ],
   "source": [
    "#Let's run our SVC again with the best parameters.\n",
    "svcp = SVC(C = 1.1, gamma =  0.8, kernel= 'rbf')\n",
    "svcp.fit(X_train, y_train)\n",
    "pred_svcp = svcp.predict(X_test)\n",
    "print(classification_report(y_test, pred_svcp))"
   ]
  },
  {
   "cell_type": "code",
   "execution_count": 39,
   "metadata": {
    "_cell_guid": "31bbdf11-00b0-4120-81f6-b7b5ac537554",
    "_uuid": "0d8fb2a1ae6909c8e44d4b51af8492c194016e4c"
   },
   "outputs": [],
   "source": [
    "#Finding best parameters for our SVC model\n",
    "param = {\n",
    "    'clf__C': [0.1,0.8,0.9,1,1.1,1.2,1.3,1.4],\n",
    "    'clf__kernel':['linear', 'rbf'],\n",
    "    'clf__gamma' :[0.1,0.8,0.9,1,1.1,1.2,1.3,1.4]\n",
    "}\n",
    "\n",
    "pipeline_svc = Pipeline([('scl', StandardScaler()),\n",
    "                    ('clf', SVC())])\n",
    "\n",
    "grid_svc = GridSearchCV(estimator=pipeline_svc, param_grid=param, scoring='accuracy', cv=10)"
   ]
  },
  {
   "cell_type": "code",
   "execution_count": 40,
   "metadata": {
    "_cell_guid": "32cbf4d6-254c-4c55-93e2-448244d89ad9",
    "_uuid": "a581f788a26862911480af8e9c2acb4385d6d79d"
   },
   "outputs": [
    {
     "data": {
      "text/plain": [
       "GridSearchCV(cv=10, error_score='raise',\n",
       "       estimator=Pipeline(memory=None,\n",
       "     steps=[('scl', StandardScaler(copy=True, with_mean=True, with_std=True)), ('clf', SVC(C=1.0, cache_size=200, class_weight=None, coef0=0.0,\n",
       "  decision_function_shape='ovr', degree=3, gamma='auto', kernel='rbf',\n",
       "  max_iter=-1, probability=False, random_state=None, shrinking=True,\n",
       "  tol=0.001, verbose=False))]),\n",
       "       fit_params=None, iid=True, n_jobs=1,\n",
       "       param_grid={'clf__C': [0.1, 0.8, 0.9, 1, 1.1, 1.2, 1.3, 1.4], 'clf__kernel': ['linear', 'rbf'], 'clf__gamma': [0.1, 0.8, 0.9, 1, 1.1, 1.2, 1.3, 1.4]},\n",
       "       pre_dispatch='2*n_jobs', refit=True, return_train_score='warn',\n",
       "       scoring='accuracy', verbose=0)"
      ]
     },
     "execution_count": 40,
     "metadata": {},
     "output_type": "execute_result"
    }
   ],
   "source": [
    "grid_svc.fit(X_train, y_train)"
   ]
  },
  {
   "cell_type": "code",
   "execution_count": 41,
   "metadata": {
    "_cell_guid": "55a3e439-c2e3-426e-a1a5-cd653bf8bfa9",
    "_uuid": "0d70efd0eb41271afb4ac50291aa83c6791847a3"
   },
   "outputs": [
    {
     "data": {
      "text/plain": [
       "{'clf__C': 1.2, 'clf__gamma': 0.9, 'clf__kernel': 'rbf'}"
      ]
     },
     "execution_count": 41,
     "metadata": {},
     "output_type": "execute_result"
    }
   ],
   "source": [
    "#Best parameters for our svc model\n",
    "grid_svc.best_params_"
   ]
  },
  {
   "cell_type": "code",
   "execution_count": 42,
   "metadata": {
    "_cell_guid": "362ff8bd-7cf3-48af-a93a-499b52dab0d7",
    "_uuid": "dd4a0ac5ef6c17e9e2312a03df0d82ca088c40f2"
   },
   "outputs": [
    {
     "name": "stdout",
     "output_type": "stream",
     "text": [
      "             precision    recall  f1-score   support\n",
      "\n",
      "          0       0.90      0.99      0.94       273\n",
      "          1       0.89      0.34      0.49        47\n",
      "\n",
      "avg / total       0.90      0.90      0.88       320\n",
      "\n"
     ]
    }
   ],
   "source": [
    "#Let's run our SVC again with the best parameters.\n",
    "svc2 = SVC(C = 1.2, gamma =  0.9, kernel= 'rbf')\n",
    "svc2.fit(X_train, y_train)\n",
    "pred_svc2 = svc2.predict(X_test)\n",
    "print(classification_report(y_test, pred_svc2))"
   ]
  },
  {
   "cell_type": "markdown",
   "metadata": {
    "_cell_guid": "d14b50b9-006a-490f-a626-4a2a41b843d6",
    "_uuid": "eca47cbe6600911992c4ebee60c68e3fe37a3c91"
   },
   "source": [
    "### SVC without PCA improves from 86% to 90% using Grid Search CV hence we would go forward with that"
   ]
  },
  {
   "cell_type": "markdown",
   "metadata": {
    "_cell_guid": "d6cd1c1f-9531-4c6a-87c1-262dd7fb6caf",
    "_uuid": "9f705df2b81e776eedc164c5d933ff4dd4c61d31"
   },
   "source": [
    "## Cross Validation Score for random forest and SGD"
   ]
  },
  {
   "cell_type": "code",
   "execution_count": 44,
   "metadata": {
    "_cell_guid": "a5507be9-a3eb-4bba-b8d5-928d015faadf",
    "_uuid": "24a7f7dc1bf59eaae6e5ea5a6f61130664fcd260"
   },
   "outputs": [
    {
     "data": {
      "text/plain": [
       "0.9093073326771653"
      ]
     },
     "execution_count": 44,
     "metadata": {},
     "output_type": "execute_result"
    }
   ],
   "source": [
    "#Now lets try to do some evaluation for random forest model using cross validation.\n",
    "rfc_eval = cross_val_score(estimator = rfc, X = X_train, y = y_train, cv = 10)\n",
    "rfc_eval.mean()"
   ]
  },
  {
   "cell_type": "markdown",
   "metadata": {
    "_cell_guid": "4a6ab3c5-4b28-442e-be48-9e3eb14a6e79",
    "_uuid": "186ca0ca24faac487ca40563c9490f94f51a433a"
   },
   "source": [
    "### Random forest accuracy increases from 87% to 91 % using cross validation score"
   ]
  }
 ],
 "metadata": {
  "kernelspec": {
   "display_name": "Python 3",
   "language": "python",
   "name": "python3"
  },
  "language_info": {
   "codemirror_mode": {
    "name": "ipython",
    "version": 3
   },
   "file_extension": ".py",
   "mimetype": "text/x-python",
   "name": "python",
   "nbconvert_exporter": "python",
   "pygments_lexer": "ipython3",
   "version": "3.6.5"
  }
 },
 "nbformat": 4,
 "nbformat_minor": 1
}
