{
 "cells": [
  {
   "cell_type": "markdown",
   "metadata": {},
   "source": [
    "# Digital Assignment 1\n",
    "\n",
    "Submitted by: Prateek Singh( 15BCE1091) \n",
    "<br>\n",
    "<br>\n",
    "The dataset used in this experiment is ionosphere dataset from UCI Machine learning repository. \n",
    "\n",
    "## Dataset Description\n",
    "This system consists of a phased array of 16 high-frequency antennas with a total transmitted power on the order of 6.4 kilowatts. \n",
    "The targets were free electrons in the ionosphere. \"Good\" radar returns are those showing evidence of some type of structure in the ionosphere. \n",
    "\"Bad\" returns are those that do not; their signals pass through the ionosphere. \n",
    "\n",
    "The different regularization algos applied in this experiment are:\n",
    "<li>L1 (Lasso) Regularization</li>\n",
    "<li>L2 (Ridge) Regularizatoin</li>\n",
    "<li>Elastic Net</li>\n",
    "<li>LARS-Lasso</li>\n",
    "<li>AIC</li>\n",
    "<li>BIC</li>\n",
    "<li>Orthogonal Matching Pursuit</li>\n",
    "\n"
   ]
  },
  {
   "cell_type": "code",
   "execution_count": 2,
   "metadata": {},
   "outputs": [],
   "source": [
    "import numpy as np\n",
    "import pandas as pd\n",
    "import seaborn as sn\n",
    "from sklearn.decomposition import PCA\n",
    "from sklearn.metrics import confusion_matrix\n",
    "from sklearn.preprocessing import LabelEncoder\n",
    "from sklearn.model_selection import train_test_split\n",
    "from sklearn.linear_model import LogisticRegression, OrthogonalMatchingPursuit, LassoLars, LassoLarsIC, ElasticNet\n",
    "\n",
    "import matplotlib.pyplot as plt\n",
    "%matplotlib inline"
   ]
  },
  {
   "cell_type": "code",
   "execution_count": 6,
   "metadata": {},
   "outputs": [
    {
     "data": {
      "text/html": [
       "<div>\n",
       "<style scoped>\n",
       "    .dataframe tbody tr th:only-of-type {\n",
       "        vertical-align: middle;\n",
       "    }\n",
       "\n",
       "    .dataframe tbody tr th {\n",
       "        vertical-align: top;\n",
       "    }\n",
       "\n",
       "    .dataframe thead th {\n",
       "        text-align: right;\n",
       "    }\n",
       "</style>\n",
       "<table border=\"1\" class=\"dataframe\">\n",
       "  <thead>\n",
       "    <tr style=\"text-align: right;\">\n",
       "      <th></th>\n",
       "      <th>0</th>\n",
       "      <th>1</th>\n",
       "      <th>2</th>\n",
       "      <th>3</th>\n",
       "      <th>4</th>\n",
       "      <th>5</th>\n",
       "      <th>6</th>\n",
       "      <th>7</th>\n",
       "      <th>8</th>\n",
       "      <th>9</th>\n",
       "      <th>...</th>\n",
       "      <th>25</th>\n",
       "      <th>26</th>\n",
       "      <th>27</th>\n",
       "      <th>28</th>\n",
       "      <th>29</th>\n",
       "      <th>30</th>\n",
       "      <th>31</th>\n",
       "      <th>32</th>\n",
       "      <th>33</th>\n",
       "      <th>34</th>\n",
       "    </tr>\n",
       "  </thead>\n",
       "  <tbody>\n",
       "    <tr>\n",
       "      <th>0</th>\n",
       "      <td>1</td>\n",
       "      <td>0</td>\n",
       "      <td>0.99539</td>\n",
       "      <td>-0.05889</td>\n",
       "      <td>0.85243</td>\n",
       "      <td>0.02306</td>\n",
       "      <td>0.83398</td>\n",
       "      <td>-0.37708</td>\n",
       "      <td>1.00000</td>\n",
       "      <td>0.03760</td>\n",
       "      <td>...</td>\n",
       "      <td>-0.51171</td>\n",
       "      <td>0.41078</td>\n",
       "      <td>-0.46168</td>\n",
       "      <td>0.21266</td>\n",
       "      <td>-0.34090</td>\n",
       "      <td>0.42267</td>\n",
       "      <td>-0.54487</td>\n",
       "      <td>0.18641</td>\n",
       "      <td>-0.45300</td>\n",
       "      <td>g</td>\n",
       "    </tr>\n",
       "    <tr>\n",
       "      <th>1</th>\n",
       "      <td>1</td>\n",
       "      <td>0</td>\n",
       "      <td>1.00000</td>\n",
       "      <td>-0.18829</td>\n",
       "      <td>0.93035</td>\n",
       "      <td>-0.36156</td>\n",
       "      <td>-0.10868</td>\n",
       "      <td>-0.93597</td>\n",
       "      <td>1.00000</td>\n",
       "      <td>-0.04549</td>\n",
       "      <td>...</td>\n",
       "      <td>-0.26569</td>\n",
       "      <td>-0.20468</td>\n",
       "      <td>-0.18401</td>\n",
       "      <td>-0.19040</td>\n",
       "      <td>-0.11593</td>\n",
       "      <td>-0.16626</td>\n",
       "      <td>-0.06288</td>\n",
       "      <td>-0.13738</td>\n",
       "      <td>-0.02447</td>\n",
       "      <td>b</td>\n",
       "    </tr>\n",
       "    <tr>\n",
       "      <th>2</th>\n",
       "      <td>1</td>\n",
       "      <td>0</td>\n",
       "      <td>1.00000</td>\n",
       "      <td>-0.03365</td>\n",
       "      <td>1.00000</td>\n",
       "      <td>0.00485</td>\n",
       "      <td>1.00000</td>\n",
       "      <td>-0.12062</td>\n",
       "      <td>0.88965</td>\n",
       "      <td>0.01198</td>\n",
       "      <td>...</td>\n",
       "      <td>-0.40220</td>\n",
       "      <td>0.58984</td>\n",
       "      <td>-0.22145</td>\n",
       "      <td>0.43100</td>\n",
       "      <td>-0.17365</td>\n",
       "      <td>0.60436</td>\n",
       "      <td>-0.24180</td>\n",
       "      <td>0.56045</td>\n",
       "      <td>-0.38238</td>\n",
       "      <td>g</td>\n",
       "    </tr>\n",
       "    <tr>\n",
       "      <th>3</th>\n",
       "      <td>1</td>\n",
       "      <td>0</td>\n",
       "      <td>1.00000</td>\n",
       "      <td>-0.45161</td>\n",
       "      <td>1.00000</td>\n",
       "      <td>1.00000</td>\n",
       "      <td>0.71216</td>\n",
       "      <td>-1.00000</td>\n",
       "      <td>0.00000</td>\n",
       "      <td>0.00000</td>\n",
       "      <td>...</td>\n",
       "      <td>0.90695</td>\n",
       "      <td>0.51613</td>\n",
       "      <td>1.00000</td>\n",
       "      <td>1.00000</td>\n",
       "      <td>-0.20099</td>\n",
       "      <td>0.25682</td>\n",
       "      <td>1.00000</td>\n",
       "      <td>-0.32382</td>\n",
       "      <td>1.00000</td>\n",
       "      <td>b</td>\n",
       "    </tr>\n",
       "    <tr>\n",
       "      <th>4</th>\n",
       "      <td>1</td>\n",
       "      <td>0</td>\n",
       "      <td>1.00000</td>\n",
       "      <td>-0.02401</td>\n",
       "      <td>0.94140</td>\n",
       "      <td>0.06531</td>\n",
       "      <td>0.92106</td>\n",
       "      <td>-0.23255</td>\n",
       "      <td>0.77152</td>\n",
       "      <td>-0.16399</td>\n",
       "      <td>...</td>\n",
       "      <td>-0.65158</td>\n",
       "      <td>0.13290</td>\n",
       "      <td>-0.53206</td>\n",
       "      <td>0.02431</td>\n",
       "      <td>-0.62197</td>\n",
       "      <td>-0.05707</td>\n",
       "      <td>-0.59573</td>\n",
       "      <td>-0.04608</td>\n",
       "      <td>-0.65697</td>\n",
       "      <td>g</td>\n",
       "    </tr>\n",
       "  </tbody>\n",
       "</table>\n",
       "<p>5 rows × 35 columns</p>\n",
       "</div>"
      ],
      "text/plain": [
       "   0   1        2        3        4        5        6        7        8   \\\n",
       "0   1   0  0.99539 -0.05889  0.85243  0.02306  0.83398 -0.37708  1.00000   \n",
       "1   1   0  1.00000 -0.18829  0.93035 -0.36156 -0.10868 -0.93597  1.00000   \n",
       "2   1   0  1.00000 -0.03365  1.00000  0.00485  1.00000 -0.12062  0.88965   \n",
       "3   1   0  1.00000 -0.45161  1.00000  1.00000  0.71216 -1.00000  0.00000   \n",
       "4   1   0  1.00000 -0.02401  0.94140  0.06531  0.92106 -0.23255  0.77152   \n",
       "\n",
       "        9  ...       25       26       27       28       29       30       31  \\\n",
       "0  0.03760 ... -0.51171  0.41078 -0.46168  0.21266 -0.34090  0.42267 -0.54487   \n",
       "1 -0.04549 ... -0.26569 -0.20468 -0.18401 -0.19040 -0.11593 -0.16626 -0.06288   \n",
       "2  0.01198 ... -0.40220  0.58984 -0.22145  0.43100 -0.17365  0.60436 -0.24180   \n",
       "3  0.00000 ...  0.90695  0.51613  1.00000  1.00000 -0.20099  0.25682  1.00000   \n",
       "4 -0.16399 ... -0.65158  0.13290 -0.53206  0.02431 -0.62197 -0.05707 -0.59573   \n",
       "\n",
       "        32       33  34  \n",
       "0  0.18641 -0.45300   g  \n",
       "1 -0.13738 -0.02447   b  \n",
       "2  0.56045 -0.38238   g  \n",
       "3 -0.32382  1.00000   b  \n",
       "4 -0.04608 -0.65697   g  \n",
       "\n",
       "[5 rows x 35 columns]"
      ]
     },
     "execution_count": 6,
     "metadata": {},
     "output_type": "execute_result"
    }
   ],
   "source": [
    "data = pd.read_csv('Dataset/ionosphere.csv', header=None)\n",
    "data.head()"
   ]
  },
  {
   "cell_type": "markdown",
   "metadata": {},
   "source": [
    "Next let's check to total number of classes the dataset is divided into, although in this case we are already given that in the description of the dataset."
   ]
  },
  {
   "cell_type": "code",
   "execution_count": 7,
   "metadata": {},
   "outputs": [
    {
     "name": "stdout",
     "output_type": "stream",
     "text": [
      "Number of data points for class: \n",
      "\n",
      "b  : 126\n",
      "g  : 225\n"
     ]
    }
   ],
   "source": [
    "classes = sorted(data.iloc[:, 34].unique())\n",
    "\n",
    "print(\"Number of data points for class: \\n\")\n",
    "\n",
    "for cls in classes:\n",
    "    num_samples = len(data.loc[data.iloc[:, 34] == cls])\n",
    "    print(cls, \" :\", num_samples)"
   ]
  },
  {
   "cell_type": "markdown",
   "metadata": {},
   "source": [
    "#### Next we try to vizualize the dataset, however since the dataset is 33 dimensional we have to reduce the dimensions in order to be able to effectively project the dataset and visualize it."
   ]
  },
  {
   "cell_type": "code",
   "execution_count": 8,
   "metadata": {},
   "outputs": [
    {
     "data": {
      "image/png": "[encoded data removed]",
      "text/plain": [
       "<Figure size 432x288 with 1 Axes>"
      ]
     },
     "metadata": {},
     "output_type": "display_data"
    }
   ],
   "source": [
    "pca = PCA(n_components=2)\n",
    "\n",
    "transformed_data = pd.DataFrame(pca.fit_transform(data.iloc[:, :34]))\n",
    "Y = pd.Series.to_frame(data.iloc[:, 34])\n",
    "\n",
    "plt.scatter(transformed_data.loc[list(Y.loc[Y[34] == 'b'].index)][0], transformed_data.loc[list(Y.loc[Y[34] == 'b'].index)][1], label='bad', c='red')\n",
    "plt.scatter(transformed_data.loc[list(Y.loc[Y[34] == 'g'].index)][0], transformed_data.loc[list(Y.loc[Y[34] == 'g'].index)][1], label='good', c='green')\n",
    "\n",
    "plt.legend()\n",
    "plt.show()"
   ]
  },
  {
   "cell_type": "markdown",
   "metadata": {},
   "source": [
    "#### We use the train_test_split function by sklearn to split the dataset between training and testing data such that 10% of the data is for testing purposes."
   ]
  },
  {
   "cell_type": "code",
   "execution_count": 9,
   "metadata": {},
   "outputs": [
    {
     "name": "stdout",
     "output_type": "stream",
     "text": [
      "Size of training set:  315\n",
      "Size of test set:  36\n"
     ]
    }
   ],
   "source": [
    "X_train, X_test, Y_train, Y_test = train_test_split(data.iloc[:, :34], \n",
    "                                                     data.iloc[:, 34], \n",
    "                                                     test_size=0.1, \n",
    "                                                     random_state=42)\n",
    "\n",
    "Y_train = pd.Series.to_frame(Y_train)\n",
    "Y_test = pd.Series.to_frame(Y_test)\n",
    "\n",
    "print(\"Size of training set: \", len(X_train.axes[0]))\n",
    "print(\"Size of test set: \", len(X_test.axes[0]))"
   ]
  },
  {
   "cell_type": "code",
   "execution_count": 10,
   "metadata": {},
   "outputs": [
    {
     "data": {
      "text/html": [
       "<div>\n",
       "<style scoped>\n",
       "    .dataframe tbody tr th:only-of-type {\n",
       "        vertical-align: middle;\n",
       "    }\n",
       "\n",
       "    .dataframe tbody tr th {\n",
       "        vertical-align: top;\n",
       "    }\n",
       "\n",
       "    .dataframe thead th {\n",
       "        text-align: right;\n",
       "    }\n",
       "</style>\n",
       "<table border=\"1\" class=\"dataframe\">\n",
       "  <thead>\n",
       "    <tr style=\"text-align: right;\">\n",
       "      <th></th>\n",
       "      <th>0</th>\n",
       "      <th>1</th>\n",
       "      <th>2</th>\n",
       "      <th>3</th>\n",
       "      <th>4</th>\n",
       "      <th>5</th>\n",
       "      <th>6</th>\n",
       "      <th>7</th>\n",
       "      <th>8</th>\n",
       "      <th>9</th>\n",
       "      <th>...</th>\n",
       "      <th>24</th>\n",
       "      <th>25</th>\n",
       "      <th>26</th>\n",
       "      <th>27</th>\n",
       "      <th>28</th>\n",
       "      <th>29</th>\n",
       "      <th>30</th>\n",
       "      <th>31</th>\n",
       "      <th>32</th>\n",
       "      <th>33</th>\n",
       "    </tr>\n",
       "  </thead>\n",
       "  <tbody>\n",
       "    <tr>\n",
       "      <th>42</th>\n",
       "      <td>1</td>\n",
       "      <td>0</td>\n",
       "      <td>0.90932</td>\n",
       "      <td>0.08791</td>\n",
       "      <td>0.86528</td>\n",
       "      <td>0.16888</td>\n",
       "      <td>1.00000</td>\n",
       "      <td>0.16598</td>\n",
       "      <td>0.55187</td>\n",
       "      <td>0.68154</td>\n",
       "      <td>...</td>\n",
       "      <td>0.24856</td>\n",
       "      <td>0.56527</td>\n",
       "      <td>0.18626</td>\n",
       "      <td>0.56605</td>\n",
       "      <td>0.12635</td>\n",
       "      <td>0.56101</td>\n",
       "      <td>0.06927</td>\n",
       "      <td>0.55061</td>\n",
       "      <td>0.12137</td>\n",
       "      <td>0.67739</td>\n",
       "    </tr>\n",
       "    <tr>\n",
       "      <th>30</th>\n",
       "      <td>1</td>\n",
       "      <td>0</td>\n",
       "      <td>1.00000</td>\n",
       "      <td>-0.14236</td>\n",
       "      <td>1.00000</td>\n",
       "      <td>-0.16256</td>\n",
       "      <td>1.00000</td>\n",
       "      <td>-0.23656</td>\n",
       "      <td>1.00000</td>\n",
       "      <td>-0.07514</td>\n",
       "      <td>...</td>\n",
       "      <td>1.00000</td>\n",
       "      <td>-0.47643</td>\n",
       "      <td>0.98820</td>\n",
       "      <td>-0.49687</td>\n",
       "      <td>1.00000</td>\n",
       "      <td>-0.75820</td>\n",
       "      <td>1.00000</td>\n",
       "      <td>-0.75761</td>\n",
       "      <td>1.00000</td>\n",
       "      <td>-0.84437</td>\n",
       "    </tr>\n",
       "    <tr>\n",
       "      <th>208</th>\n",
       "      <td>1</td>\n",
       "      <td>0</td>\n",
       "      <td>-0.00641</td>\n",
       "      <td>-0.50000</td>\n",
       "      <td>0.00000</td>\n",
       "      <td>0.00000</td>\n",
       "      <td>-0.01923</td>\n",
       "      <td>1.00000</td>\n",
       "      <td>0.00000</td>\n",
       "      <td>0.00000</td>\n",
       "      <td>...</td>\n",
       "      <td>0.00000</td>\n",
       "      <td>0.00000</td>\n",
       "      <td>-0.61538</td>\n",
       "      <td>-0.51282</td>\n",
       "      <td>0.00000</td>\n",
       "      <td>0.00000</td>\n",
       "      <td>0.00000</td>\n",
       "      <td>0.00000</td>\n",
       "      <td>0.00000</td>\n",
       "      <td>0.00000</td>\n",
       "    </tr>\n",
       "    <tr>\n",
       "      <th>310</th>\n",
       "      <td>1</td>\n",
       "      <td>0</td>\n",
       "      <td>0.93658</td>\n",
       "      <td>0.35107</td>\n",
       "      <td>0.75254</td>\n",
       "      <td>0.65640</td>\n",
       "      <td>0.45571</td>\n",
       "      <td>0.88576</td>\n",
       "      <td>0.15323</td>\n",
       "      <td>0.95776</td>\n",
       "      <td>...</td>\n",
       "      <td>-0.36799</td>\n",
       "      <td>-0.84951</td>\n",
       "      <td>-0.04578</td>\n",
       "      <td>-0.91221</td>\n",
       "      <td>0.27330</td>\n",
       "      <td>-0.85762</td>\n",
       "      <td>0.54827</td>\n",
       "      <td>-0.69613</td>\n",
       "      <td>0.74828</td>\n",
       "      <td>-0.44173</td>\n",
       "    </tr>\n",
       "    <tr>\n",
       "      <th>113</th>\n",
       "      <td>1</td>\n",
       "      <td>0</td>\n",
       "      <td>1.00000</td>\n",
       "      <td>0.23395</td>\n",
       "      <td>0.91404</td>\n",
       "      <td>0.52013</td>\n",
       "      <td>0.78020</td>\n",
       "      <td>0.72144</td>\n",
       "      <td>0.47660</td>\n",
       "      <td>0.84222</td>\n",
       "      <td>...</td>\n",
       "      <td>-0.70838</td>\n",
       "      <td>0.03591</td>\n",
       "      <td>-0.71731</td>\n",
       "      <td>-0.11943</td>\n",
       "      <td>-0.64962</td>\n",
       "      <td>-0.28183</td>\n",
       "      <td>-0.51251</td>\n",
       "      <td>-0.44505</td>\n",
       "      <td>-0.37432</td>\n",
       "      <td>-0.53319</td>\n",
       "    </tr>\n",
       "  </tbody>\n",
       "</table>\n",
       "<p>5 rows × 34 columns</p>\n",
       "</div>"
      ],
      "text/plain": [
       "     0   1        2        3        4        5        6        7        8   \\\n",
       "42    1   0  0.90932  0.08791  0.86528  0.16888  1.00000  0.16598  0.55187   \n",
       "30    1   0  1.00000 -0.14236  1.00000 -0.16256  1.00000 -0.23656  1.00000   \n",
       "208   1   0 -0.00641 -0.50000  0.00000  0.00000 -0.01923  1.00000  0.00000   \n",
       "310   1   0  0.93658  0.35107  0.75254  0.65640  0.45571  0.88576  0.15323   \n",
       "113   1   0  1.00000  0.23395  0.91404  0.52013  0.78020  0.72144  0.47660   \n",
       "\n",
       "          9    ...          24       25       26       27       28       29  \\\n",
       "42   0.68154   ...     0.24856  0.56527  0.18626  0.56605  0.12635  0.56101   \n",
       "30  -0.07514   ...     1.00000 -0.47643  0.98820 -0.49687  1.00000 -0.75820   \n",
       "208  0.00000   ...     0.00000  0.00000 -0.61538 -0.51282  0.00000  0.00000   \n",
       "310  0.95776   ...    -0.36799 -0.84951 -0.04578 -0.91221  0.27330 -0.85762   \n",
       "113  0.84222   ...    -0.70838  0.03591 -0.71731 -0.11943 -0.64962 -0.28183   \n",
       "\n",
       "          30       31       32       33  \n",
       "42   0.06927  0.55061  0.12137  0.67739  \n",
       "30   1.00000 -0.75761  1.00000 -0.84437  \n",
       "208  0.00000  0.00000  0.00000  0.00000  \n",
       "310  0.54827 -0.69613  0.74828 -0.44173  \n",
       "113 -0.51251 -0.44505 -0.37432 -0.53319  \n",
       "\n",
       "[5 rows x 34 columns]"
      ]
     },
     "execution_count": 10,
     "metadata": {},
     "output_type": "execute_result"
    }
   ],
   "source": [
    "X_train.head()"
   ]
  },
  {
   "cell_type": "code",
   "execution_count": 11,
   "metadata": {},
   "outputs": [
    {
     "name": "stderr",
     "output_type": "stream",
     "text": [
      "/usr/lib/python3.6/site-packages/sklearn/preprocessing/label.py:95: DataConversionWarning: A column-vector y was passed when a 1d array was expected. Please change the shape of y to (n_samples, ), for example using ravel().\n",
      "  y = column_or_1d(y, warn=True)\n",
      "/usr/lib/python3.6/site-packages/sklearn/preprocessing/label.py:128: DataConversionWarning: A column-vector y was passed when a 1d array was expected. Please change the shape of y to (n_samples, ), for example using ravel().\n",
      "  y = column_or_1d(y, warn=True)\n"
     ]
    },
    {
     "data": {
      "text/html": [
       "<div>\n",
       "<style scoped>\n",
       "    .dataframe tbody tr th:only-of-type {\n",
       "        vertical-align: middle;\n",
       "    }\n",
       "\n",
       "    .dataframe tbody tr th {\n",
       "        vertical-align: top;\n",
       "    }\n",
       "\n",
       "    .dataframe thead th {\n",
       "        text-align: right;\n",
       "    }\n",
       "</style>\n",
       "<table border=\"1\" class=\"dataframe\">\n",
       "  <thead>\n",
       "    <tr style=\"text-align: right;\">\n",
       "      <th></th>\n",
       "      <th>34</th>\n",
       "    </tr>\n",
       "  </thead>\n",
       "  <tbody>\n",
       "    <tr>\n",
       "      <th>42</th>\n",
       "      <td>1</td>\n",
       "    </tr>\n",
       "    <tr>\n",
       "      <th>30</th>\n",
       "      <td>1</td>\n",
       "    </tr>\n",
       "    <tr>\n",
       "      <th>208</th>\n",
       "      <td>0</td>\n",
       "    </tr>\n",
       "    <tr>\n",
       "      <th>310</th>\n",
       "      <td>1</td>\n",
       "    </tr>\n",
       "    <tr>\n",
       "      <th>113</th>\n",
       "      <td>1</td>\n",
       "    </tr>\n",
       "  </tbody>\n",
       "</table>\n",
       "</div>"
      ],
      "text/plain": [
       "     34\n",
       "42    1\n",
       "30    1\n",
       "208   0\n",
       "310   1\n",
       "113   1"
      ]
     },
     "execution_count": 11,
     "metadata": {},
     "output_type": "execute_result"
    }
   ],
   "source": [
    "le = LabelEncoder()\n",
    "le.fit(Y_train)\n",
    "le.classes_\n",
    "Y_train = pd.DataFrame(le.transform(Y_train), index=Y_train.index, columns=Y_train.columns)\n",
    "Y_test = pd.DataFrame(le.transform(Y_test), index=Y_test.index, columns=Y_test.columns)\n",
    "Y_train.head()\n"
   ]
  },
  {
   "cell_type": "markdown",
   "metadata": {},
   "source": [
    "#### We use a vanilla logistic regression without any regularization with which we achieve and accuracy of 92.7%"
   ]
  },
  {
   "cell_type": "code",
   "execution_count": 14,
   "metadata": {},
   "outputs": [
    {
     "name": "stdout",
     "output_type": "stream",
     "text": [
      "Train Score:  0.926984126984127\n",
      "Test Score:  0.8333333333333334 \n",
      "\n",
      "[[ 9  6]\n",
      " [ 0 21]]\n"
     ]
    },
    {
     "name": "stderr",
     "output_type": "stream",
     "text": [
      "/usr/lib/python3.6/site-packages/sklearn/utils/validation.py:578: DataConversionWarning: A column-vector y was passed when a 1d array was expected. Please change the shape of y to (n_samples, ), for example using ravel().\n",
      "  y = column_or_1d(y, warn=True)\n"
     ]
    }
   ],
   "source": [
    "model_l1 = LogisticRegression(solver='saga', max_iter=10000, multi_class='multinomial')\n",
    "model_l1.fit(X_train, Y_train)\n",
    "\n",
    "print(\"Train Score: \", model_l1.score(X_train, Y_train))\n",
    "print(\"Test Score: \", model_l1.score(X_test, Y_test), '\\n')\n",
    "\n",
    "Y_pred = model_l1.predict(X_test)\n",
    "cm = confusion_matrix(Y_test, Y_pred)\n",
    "print(cm)"
   ]
  },
  {
   "cell_type": "markdown",
   "metadata": {},
   "source": [
    "Using logistic regression with L1 regularization"
   ]
  },
  {
   "cell_type": "code",
   "execution_count": 15,
   "metadata": {},
   "outputs": [
    {
     "name": "stdout",
     "output_type": "stream",
     "text": [
      "Train Score:  0.9142857142857143\n",
      "Test Score:  0.8333333333333334 \n",
      "\n",
      "[[ 9  6]\n",
      " [ 0 21]]\n"
     ]
    },
    {
     "name": "stderr",
     "output_type": "stream",
     "text": [
      "/usr/lib/python3.6/site-packages/sklearn/utils/validation.py:578: DataConversionWarning: A column-vector y was passed when a 1d array was expected. Please change the shape of y to (n_samples, ), for example using ravel().\n",
      "  y = column_or_1d(y, warn=True)\n"
     ]
    }
   ],
   "source": [
    "model_l1 = LogisticRegression(penalty='l1', solver='saga', max_iter=10000, multi_class='multinomial')\n",
    "model_l1.fit(X_train, Y_train)\n",
    "\n",
    "print(\"Train Score: \", model_l1.score(X_train, Y_train))\n",
    "print(\"Test Score: \", model_l1.score(X_test, Y_test), '\\n')\n",
    "\n",
    "Y_pred = model_l1.predict(X_test)\n",
    "cm = confusion_matrix(Y_test, Y_pred)\n",
    "print(cm)"
   ]
  },
  {
   "cell_type": "markdown",
   "metadata": {},
   "source": [
    "Using logistic regression with L2 regularization"
   ]
  },
  {
   "cell_type": "code",
   "execution_count": 17,
   "metadata": {},
   "outputs": [
    {
     "name": "stdout",
     "output_type": "stream",
     "text": [
      "Train Score:  0.926984126984127\n",
      "Test Score:  0.8333333333333334 \n",
      "\n",
      "[[ 9  6]\n",
      " [ 0 21]]\n"
     ]
    },
    {
     "name": "stderr",
     "output_type": "stream",
     "text": [
      "/usr/lib/python3.6/site-packages/sklearn/utils/validation.py:578: DataConversionWarning: A column-vector y was passed when a 1d array was expected. Please change the shape of y to (n_samples, ), for example using ravel().\n",
      "  y = column_or_1d(y, warn=True)\n"
     ]
    }
   ],
   "source": [
    "model_l2 = LogisticRegression(penalty='l2', solver='saga', max_iter=10000, multi_class='multinomial')\n",
    "model_l2.fit(X_train, Y_train)\n",
    "\n",
    "print(\"Train Score: \", model_l2.score(X_train, Y_train))\n",
    "print(\"Test Score: \", model_l2.score(X_test, Y_test), '\\n')\n",
    "\n",
    "Y_pred = model_l2.predict(X_test)\n",
    "cm = confusion_matrix(Y_test, Y_pred)\n",
    "print(cm)\n"
   ]
  },
  {
   "cell_type": "markdown",
   "metadata": {},
   "source": [
    "Using Elastic Net"
   ]
  },
  {
   "cell_type": "code",
   "execution_count": 106,
   "metadata": {},
   "outputs": [
    {
     "name": "stdout",
     "output_type": "stream",
     "text": [
      "Train Score:  0.0\n",
      "Test Score:  -0.01700291545189514 \n",
      "\n",
      "[[15  0]\n",
      " [21  0]]\n"
     ]
    }
   ],
   "source": [
    "model_v3 = ElasticNet(random_state=0)\n",
    "model_v3.fit(X_train, Y_train)\n",
    "\n",
    "print(\"Train Score: \", model_v3.score(X_train, Y_train))\n",
    "print(\"Test Score: \", model_v3.score(X_test, Y_test), '\\n')\n",
    "\n",
    "Y_pred = model_v3.predict(X_test)\n",
    "Y_pred = Y_pred.astype(int)\n",
    "cm = confusion_matrix(Y_test, Y_pred)\n",
    "print(cm)"
   ]
  },
  {
   "cell_type": "code",
   "execution_count": 107,
   "metadata": {},
   "outputs": [
    {
     "name": "stdout",
     "output_type": "stream",
     "text": [
      "Train Score:  0.20716869380731406\n",
      "Test Score:  0.18172349343699712 \n",
      "\n",
      "[[15  0]\n",
      " [21  0]]\n"
     ]
    }
   ],
   "source": [
    "model_v4 = LassoLars(alpha=0.01)\n",
    "model_v4.fit(X_train, Y_train)\n",
    "\n",
    "print(\"Train Score: \", model_v4.score(X_train, Y_train))\n",
    "print(\"Test Score: \", model_v4.score(X_test, Y_test), '\\n')\n",
    "\n",
    "Y_pred = model_v4.predict(X_test)\n",
    "Y_pred = Y_pred.astype(int)\n",
    "cm = confusion_matrix(Y_test, Y_pred)\n",
    "print(cm)"
   ]
  },
  {
   "cell_type": "markdown",
   "metadata": {},
   "source": [
    "Using AIC regularization"
   ]
  },
  {
   "cell_type": "code",
   "execution_count": 20,
   "metadata": {},
   "outputs": [
    {
     "name": "stdout",
     "output_type": "stream",
     "text": [
      "Train Score:  0.53682743360097\n",
      "Test Score:  0.4201768645178431 \n",
      "\n",
      "[[15  0]\n",
      " [21  0]]\n"
     ]
    },
    {
     "name": "stderr",
     "output_type": "stream",
     "text": [
      "/usr/lib/python3.6/site-packages/sklearn/utils/validation.py:578: DataConversionWarning: A column-vector y was passed when a 1d array was expected. Please change the shape of y to (n_samples, ), for example using ravel().\n",
      "  y = column_or_1d(y, warn=True)\n"
     ]
    }
   ],
   "source": [
    "model_aic = LassoLarsIC(criterion='aic')\n",
    "model_aic.fit(X_train, Y_train)\n",
    "alpha_aic_ = model_aic.alpha_\n",
    "\n",
    "print(\"Train Score: \", model_aic.score(X_train, Y_train))\n",
    "print(\"Test Score: \", model_aic.score(X_test, Y_test), '\\n')\n",
    "\n",
    "Y_pred = model_aic.predict(X_test)\n",
    "Y_pred = Y_pred.astype(int)\n",
    "cm = confusion_matrix(Y_test, Y_pred)\n",
    "print(cm)"
   ]
  },
  {
   "cell_type": "markdown",
   "metadata": {},
   "source": [
    "Using BIC regularization"
   ]
  },
  {
   "cell_type": "code",
   "execution_count": 21,
   "metadata": {},
   "outputs": [
    {
     "name": "stdout",
     "output_type": "stream",
     "text": [
      "Train Score:  0.5256014573187816\n",
      "Test Score:  0.42136955872651527 \n",
      "\n",
      "[[15  0]\n",
      " [21  0]]\n"
     ]
    },
    {
     "name": "stderr",
     "output_type": "stream",
     "text": [
      "/usr/lib/python3.6/site-packages/sklearn/utils/validation.py:578: DataConversionWarning: A column-vector y was passed when a 1d array was expected. Please change the shape of y to (n_samples, ), for example using ravel().\n",
      "  y = column_or_1d(y, warn=True)\n"
     ]
    }
   ],
   "source": [
    "model_bic = LassoLarsIC(criterion='bic')\n",
    "model_bic.fit(X_train, Y_train)\n",
    "alpha_bic_ = model_aic.alpha_\n",
    "\n",
    "print(\"Train Score: \", model_bic.score(X_train, Y_train))\n",
    "print(\"Test Score: \", model_bic.score(X_test, Y_test), '\\n')\n",
    "\n",
    "Y_pred = model_bic.predict(X_test)\n",
    "Y_pred = Y_pred.astype(int)\n",
    "cm = confusion_matrix(Y_test, Y_pred)\n",
    "print(cm)"
   ]
  },
  {
   "cell_type": "markdown",
   "metadata": {},
   "source": [
    "Using the Orthogonal Matching Pursuit"
   ]
  },
  {
   "cell_type": "code",
   "execution_count": 24,
   "metadata": {},
   "outputs": [
    {
     "name": "stdout",
     "output_type": "stream",
     "text": [
      "Train Score:  0.6376814190887808\n",
      "Test Score:  0.35222528616415316 \n",
      "\n",
      "[[14  1]\n",
      " [19  2]]\n"
     ]
    }
   ],
   "source": [
    "model_omp = OrthogonalMatchingPursuit(n_nonzero_coefs=33)\n",
    "model_omp.fit(X_train, Y_train)\n",
    "coef = model_omp.coef_\n",
    "\n",
    "print(\"Train Score: \", model_omp.score(X_train, Y_train))\n",
    "print(\"Test Score: \", model_omp.score(X_test, Y_test), '\\n')\n",
    "\n",
    "Y_pred = model_omp.predict(X_test)\n",
    "Y_pred = Y_pred.astype(int)\n",
    "cm = confusion_matrix(Y_test, Y_pred)\n",
    "print(cm)"
   ]
  }
 ],
 "metadata": {
  "kernelspec": {
   "display_name": "Python 3",
   "language": "python",
   "name": "python3"
  },
  "language_info": {
   "codemirror_mode": {
    "name": "ipython",
    "version": 3
   },
   "file_extension": ".py",
   "mimetype": "text/x-python",
   "name": "python",
   "nbconvert_exporter": "python",
   "pygments_lexer": "ipython3",
   "version": "3.6.5"
  }
 },
 "nbformat": 4,
 "nbformat_minor": 2
}
